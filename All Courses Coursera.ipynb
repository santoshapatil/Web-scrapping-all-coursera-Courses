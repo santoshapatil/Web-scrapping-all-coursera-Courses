{
  "nbformat": 4,
  "nbformat_minor": 0,
  "metadata": {
    "kernelspec": {
      "display_name": "Python 3",
      "language": "python",
      "name": "python3"
    },
    "language_info": {
      "codemirror_mode": {
        "name": "ipython",
        "version": 3
      },
      "file_extension": ".py",
      "mimetype": "text/x-python",
      "name": "python",
      "nbconvert_exporter": "python",
      "pygments_lexer": "ipython3",
      "version": "3.8.2"
    },
    "colab": {
      "name": "Get all courses",
      "provenance": [],
      "collapsed_sections": [],
      "toc_visible": true
    }
  },
  "cells": [
    {
      "cell_type": "code",
      "metadata": {
        "id": "5Jh0j1APW-bR"
      },
      "source": [
        "from bs4 import BeautifulSoup\n",
        "import requests\n",
        "import os\n",
        "import pandas as pd"
      ],
      "execution_count": 1,
      "outputs": []
    },
    {
      "cell_type": "code",
      "metadata": {
        "id": "PAPii3fPSljL",
        "outputId": "37f13b8d-3f58-4928-d12f-78e19736d33a",
        "colab": {
          "base_uri": "https://localhost:8080/"
        }
      },
      "source": [
        "#For Specialization\n",
        "spl_title=[]\n",
        "spl_link=[]\n",
        "\n",
        "import timeit\n",
        "\n",
        "import time\n",
        "start = time.time()\n",
        "for i in range(1,16):\n",
        "    #44&index=prod_all_products_term_optimization_v3&entityTypeDescription=Specializations&allLanguages=English\n",
        "    url = \"https://www.coursera.org/directory/specializations?page=\" +str(i)\n",
        "    page = requests.get(url)\n",
        "    soup = BeautifulSoup(page.content, 'html.parser')\n",
        "    st = soup.find_all('a', class_ =\"c-directory-link\")\n",
        "    num=len(st)\n",
        "    for j in range(1,num):\n",
        "        #spl-title\n",
        "        st = soup.find_all('a', class_ =\"c-directory-link\")[j].get_text()\n",
        "        spl_title.append(st)       \n",
        "        #spl URL\n",
        "        curl= soup.find_all(\"a\", class_='c-directory-link')[j]\n",
        "        spl_link.append(\"https://www.coursera.org\"+ curl.get('href'))\n",
        "stop = time.time()\n",
        "print(f\"Training time: {stop - start}s\")\n",
        "#creating a dataframe of all specializations\n",
        "splz=pd.DataFrame({'spl_title':spl_title,\n",
        "                   'spl_link':spl_link})\n",
        "\n",
        "\n",
        "#writing into a .csv file\n",
        "#coursera_df.to_csv('Coursera_catalog.csv')"
      ],
      "execution_count": 96,
      "outputs": [
        {
          "output_type": "stream",
          "text": [
            "Training time: 26.182609796524048s\n"
          ],
          "name": "stdout"
        }
      ]
    },
    {
      "cell_type": "code",
      "metadata": {
        "id": "OscX1URmVySd"
      },
      "source": [
        "#get all courses on coursera\n",
        "course_title=[]\n",
        "course_link=[]\n",
        "\n",
        "cnt=0\n",
        "for i in range(1,153):\n",
        "    #44&index=prod_all_products_term_optimization_v3&entityTypeDescription=Specializations&allLanguages=English\n",
        "    url = \"https://www.coursera.org/directory/courses?page=\" +str(i)\n",
        "    page = requests.get(url)\n",
        "    soup = BeautifulSoup(page.content, 'html.parser')\n",
        "    st = soup.find_all('a', class_ =\"c-directory-link\")\n",
        "    num=len(st)\n",
        "    for j in range(1,num):\n",
        "        #course-title\n",
        "        ct = soup.find_all('a', class_ =\"c-directory-link\")[j].get_text()\n",
        "        cnt=cnt+1\n",
        "        course_title.append(ct)       \n",
        "        #course URL\n",
        "        curl= soup.find_all(\"a\", class_='c-directory-link')[j]\n",
        "        course_link.append(\"https://www.coursera.org\"+ curl.get('href'))\n",
        "\n",
        "#creating a dataframe of all specializations\n",
        "courses=pd.DataFrame({'course_title':course_title,\n",
        "                   'course_link':course_link})\n",
        "\n",
        "#writing into a .csv file\n",
        "#coursera_df.to_csv('Coursera_catalog.csv')"
      ],
      "execution_count": null,
      "outputs": []
    },
    {
      "cell_type": "code",
      "metadata": {
        "id": "LBTVNisRyb-Z",
        "outputId": "b1d91c14-b62f-4102-82a2-bd5fdc811a2e",
        "colab": {
          "base_uri": "https://localhost:8080/",
          "height": 36
        }
      },
      "source": [
        "courses.course_link.at[34]"
      ],
      "execution_count": 104,
      "outputs": [
        {
          "output_type": "execute_result",
          "data": {
            "application/vnd.google.colaboratory.intrinsic+json": {
              "type": "string"
            },
            "text/plain": [
              "'https://www.coursera.org/learn/nonstatusquo-attitudes-netlogo'"
            ]
          },
          "metadata": {
            "tags": []
          },
          "execution_count": 104
        }
      ]
    },
    {
      "cell_type": "code",
      "metadata": {
        "id": "GBzKsckQi2Cx",
        "outputId": "93192f83-5bf3-4f39-f71f-fde605932f8b",
        "colab": {
          "base_uri": "https://localhost:8080/",
          "height": 175
        }
      },
      "source": [
        "cs=courses.iloc[[16,27,24,25]]\n",
        "cs"
      ],
      "execution_count": 91,
      "outputs": [
        {
          "output_type": "execute_result",
          "data": {
            "text/html": [
              "<div>\n",
              "<style scoped>\n",
              "    .dataframe tbody tr th:only-of-type {\n",
              "        vertical-align: middle;\n",
              "    }\n",
              "\n",
              "    .dataframe tbody tr th {\n",
              "        vertical-align: top;\n",
              "    }\n",
              "\n",
              "    .dataframe thead th {\n",
              "        text-align: right;\n",
              "    }\n",
              "</style>\n",
              "<table border=\"1\" class=\"dataframe\">\n",
              "  <thead>\n",
              "    <tr style=\"text-align: right;\">\n",
              "      <th></th>\n",
              "      <th>course_title</th>\n",
              "      <th>course_link</th>\n",
              "    </tr>\n",
              "  </thead>\n",
              "  <tbody>\n",
              "    <tr>\n",
              "      <th>16</th>\n",
              "      <td>Know Thyself - The Value and Limits of Self-Kn...</td>\n",
              "      <td>https://www.coursera.org/learn/know-thyself-th...</td>\n",
              "    </tr>\n",
              "    <tr>\n",
              "      <th>27</th>\n",
              "      <td>Use Canva to Create Desktop and Mobile-friendl...</td>\n",
              "      <td>https://www.coursera.org/learn/use-canva-to-cr...</td>\n",
              "    </tr>\n",
              "    <tr>\n",
              "      <th>24</th>\n",
              "      <td>Supervised Learning: Classification (IBM)</td>\n",
              "      <td>https://www.coursera.org/learn/supervised-lear...</td>\n",
              "    </tr>\n",
              "    <tr>\n",
              "      <th>25</th>\n",
              "      <td>System Administration and IT Infrastructure Se...</td>\n",
              "      <td>https://www.coursera.org/learn/system-administ...</td>\n",
              "    </tr>\n",
              "  </tbody>\n",
              "</table>\n",
              "</div>"
            ],
            "text/plain": [
              "                                         course_title                                        course_link\n",
              "16  Know Thyself - The Value and Limits of Self-Kn...  https://www.coursera.org/learn/know-thyself-th...\n",
              "27  Use Canva to Create Desktop and Mobile-friendl...  https://www.coursera.org/learn/use-canva-to-cr...\n",
              "24          Supervised Learning: Classification (IBM)  https://www.coursera.org/learn/supervised-lear...\n",
              "25  System Administration and IT Infrastructure Se...  https://www.coursera.org/learn/system-administ..."
            ]
          },
          "metadata": {
            "tags": []
          },
          "execution_count": 91
        }
      ]
    },
    {
      "cell_type": "code",
      "metadata": {
        "id": "md9IEISuXO0z"
      },
      "source": [
        "cs=courses.iloc[[27,24]]\n",
        "uuur=cs.course_link"
      ],
      "execution_count": 11,
      "outputs": []
    },
    {
      "cell_type": "code",
      "metadata": {
        "id": "zE6RJO4rG3-W",
        "outputId": "5a4c545e-e640-46dd-8229-eab6963536eb",
        "colab": {
          "base_uri": "https://localhost:8080/"
        }
      },
      "source": [
        "uuur"
      ],
      "execution_count": 12,
      "outputs": [
        {
          "output_type": "execute_result",
          "data": {
            "text/plain": [
              "27    https://www.coursera.org/learn/use-canva-to-cr...\n",
              "24    https://www.coursera.org/learn/supervised-lear...\n",
              "Name: course_link, dtype: object"
            ]
          },
          "metadata": {
            "tags": []
          },
          "execution_count": 12
        }
      ]
    },
    {
      "cell_type": "code",
      "metadata": {
        "id": "GsGeoprrW-dA",
        "outputId": "ebea0b59-0590-4255-b12b-110dc9dbb883",
        "colab": {
          "base_uri": "https://localhost:8080/",
          "height": 472
        }
      },
      "source": [
        "#To get detail of each course\n",
        "\n",
        "course_name=[]\n",
        "course_type=[]\n",
        "course_photo_URL=[]\n",
        "typ=[]\n",
        "typ_name=[]\n",
        "university_name=[]\n",
        "university_logo=[]\n",
        "course_link=[]\n",
        "spl_skills=[]\n",
        "course_tit=[]\n",
        "time_required=[]\n",
        "level=[]\n",
        "course_language=[]\n",
        "course_subtitles=[]\n",
        "course_skills=[]\n",
        "category=[]\n",
        "sub_category=[]\n",
        "start = time.time()\n",
        "for urlC in courses.course_link:\n",
        "    page_course = requests.get(urlC)\n",
        "    soup = BeautifulSoup(page_course.content, 'html.parser')\n",
        "    \n",
        "    guided=soup.find('div',class_=\"_fc5ifbq _bv93ce\")\n",
        "    \n",
        "    if guided is None:\n",
        "      #Attaching Course Link\n",
        "      course_link.append(urlC)\n",
        "      #Attaching course Name/Title\n",
        "      cnn=soup.find('h1',class_=\"banner-title m-b-0 banner-title-without--subtitle\").get_text()\n",
        "      course_name.append(cnn)\n",
        "      #Attaching type of course\n",
        "      typ.append('COURSE')\n",
        "      \n",
        "      #attaching University /name\n",
        "      univ = soup.find('h4', class_ = 'headline-4-text bold rc-Partner__title').get_text()\n",
        "      university_name.append(univ)\n",
        "\n",
        "      #attaching University photo\n",
        "      u_logo=soup.find('div',class_='rc-Partner')\n",
        "      l=u_logo.find('img').get('src')\n",
        "      university_logo.append(l)\n",
        "      #Attaching course level(Beginner/Intermediate/ Advanced) and  time required to complete\n",
        "      fet=soup.find_all('div',class_='_16ni8zai m-b-0 m-t-1s')\n",
        "      for i in range(0,2):\n",
        "\n",
        "        if i==0:\n",
        "          lev=fet[i].get_text()\n",
        "          level.append(lev)\n",
        "        else:\n",
        "          vtim=fet[i].get_text()\n",
        "          time_required.append(vtim)\n",
        "\n",
        "      \n",
        "      \n",
        "      \n",
        "      #Attaching Course Languages and course subtitles\n",
        "      lang=soup.find_all(\"div\",class_=\"_y1d9czk m-b-2 p-t-1s\")[-1]\n",
        "      lgg= lang.find(\"div\",class_=\"_16ni8zai m-b-0\").get_text()\n",
        "      subtitless=lang.find(\"div\",class_=\"content-inner\").get_text()\n",
        "      course_language.append(lgg)\n",
        "      course_subtitles.append(subtitless)\n",
        "\n",
        "      #Attachng course skills\n",
        "      skills= [x.get_text() for x in soup.find_all('span', class_ = '_rsc0bd m-r-1s m-b-1s')]\n",
        "      course_skills.append(skills)\n",
        "      skills=[]\n",
        "\n",
        "      #attaching Course Category and sub-category\n",
        "      subj = soup.find_all('a',class_ = '_172v19u6')\n",
        "      category.append(subj[1].get_text())\n",
        "      sub_category.append(subj[2].get_text())\n",
        "    else:\n",
        "      #Attaching Course Link\n",
        "      course_link.append(urlC)\n",
        "      #Attaching course Name/Title\n",
        "      cnn=soup.find('h1',class_=\"_125g251l _gkjc69\").get_text()\n",
        "      course_name.append(cnn)\n",
        "      #Attaching type of course\n",
        "      typ.append('GUIDED PROJECT')\n",
        "      \n",
        "      #attaching University /name\n",
        "      university_name.append('Coursera Project Network')\n",
        "\n",
        "      #attaching University photo\n",
        "      u_logo=soup.find('div',class_='_1tu07i3a')\n",
        "      l=u_logo.find('img').get('src')\n",
        "      university_logo.append(l)\n",
        "      #Attaching course level(Beginner/Intermediate/ Advanced) and  time required to complete\n",
        "      lang=soup.find_all(\"div\",class_=\"_8m7gipb _1f096on\")[1]\n",
        "      lgg= lang.find(\"span\").get_text()\n",
        "      \n",
        "      level.append(lgg)\n",
        "      \n",
        "      #time required to complete the course\n",
        "      vtim=soup.find('span',class_='_1rcyblj')\n",
        "      time_required.append(vtim)\n",
        "      #Attaching Course Languages and course subtitles\n",
        "      lang=soup.find_all(\"span\",class_=\"_1rcyblj\")[-2].get_text()\n",
        "      course_language.append(lang)\n",
        "      course_subtitles.append(lang)\n",
        "\n",
        "\n",
        "      #Attachng course skills\n",
        "      skills= [x.get_text() for x in soup.find_all('span', class_ = '_1q9sh65')]\n",
        "      course_skills.append(skills)\n",
        "      skills=[]\n",
        "\n",
        "      #attaching Course Category and sub-category\n",
        "      subj = soup.find_all('a',class_ = '_k8ap7s6')\n",
        "      category.append(subj[1].get_text())\n",
        "      sub_category.append(subj[2].get_text())\n",
        "      \n",
        "stop = time.time()\n",
        "print(f\"Training time: {stop - start}s\")"
      ],
      "execution_count": 115,
      "outputs": [
        {
          "output_type": "error",
          "ename": "KeyboardInterrupt",
          "evalue": "ignored",
          "traceback": [
            "\u001b[0;31m---------------------------------------------------------------------------\u001b[0m",
            "\u001b[0;31mTypeError\u001b[0m                                 Traceback (most recent call last)",
            "\u001b[0;32m/usr/local/lib/python3.6/dist-packages/urllib3/connectionpool.py\u001b[0m in \u001b[0;36m_make_request\u001b[0;34m(self, conn, method, url, timeout, chunked, **httplib_request_kw)\u001b[0m\n\u001b[1;32m    376\u001b[0m             \u001b[0;32mtry\u001b[0m\u001b[0;34m:\u001b[0m  \u001b[0;31m# Python 2.7, use buffering of HTTP responses\u001b[0m\u001b[0;34m\u001b[0m\u001b[0;34m\u001b[0m\u001b[0m\n\u001b[0;32m--> 377\u001b[0;31m                 \u001b[0mhttplib_response\u001b[0m \u001b[0;34m=\u001b[0m \u001b[0mconn\u001b[0m\u001b[0;34m.\u001b[0m\u001b[0mgetresponse\u001b[0m\u001b[0;34m(\u001b[0m\u001b[0mbuffering\u001b[0m\u001b[0;34m=\u001b[0m\u001b[0;32mTrue\u001b[0m\u001b[0;34m)\u001b[0m\u001b[0;34m\u001b[0m\u001b[0;34m\u001b[0m\u001b[0m\n\u001b[0m\u001b[1;32m    378\u001b[0m             \u001b[0;32mexcept\u001b[0m \u001b[0mTypeError\u001b[0m\u001b[0;34m:\u001b[0m  \u001b[0;31m# Python 3\u001b[0m\u001b[0;34m\u001b[0m\u001b[0;34m\u001b[0m\u001b[0m\n",
            "\u001b[0;31mTypeError\u001b[0m: getresponse() got an unexpected keyword argument 'buffering'",
            "\nDuring handling of the above exception, another exception occurred:\n",
            "\u001b[0;31mKeyboardInterrupt\u001b[0m                         Traceback (most recent call last)",
            "\u001b[0;32m<ipython-input-115-dde01c0d98ed>\u001b[0m in \u001b[0;36m<module>\u001b[0;34m()\u001b[0m\n\u001b[1;32m     20\u001b[0m \u001b[0mstart\u001b[0m \u001b[0;34m=\u001b[0m \u001b[0mtime\u001b[0m\u001b[0;34m.\u001b[0m\u001b[0mtime\u001b[0m\u001b[0;34m(\u001b[0m\u001b[0;34m)\u001b[0m\u001b[0;34m\u001b[0m\u001b[0;34m\u001b[0m\u001b[0m\n\u001b[1;32m     21\u001b[0m \u001b[0;32mfor\u001b[0m \u001b[0murlC\u001b[0m \u001b[0;32min\u001b[0m \u001b[0mcourses\u001b[0m\u001b[0;34m.\u001b[0m\u001b[0mcourse_link\u001b[0m\u001b[0;34m:\u001b[0m\u001b[0;34m\u001b[0m\u001b[0;34m\u001b[0m\u001b[0m\n\u001b[0;32m---> 22\u001b[0;31m     \u001b[0mpage_course\u001b[0m \u001b[0;34m=\u001b[0m \u001b[0mrequests\u001b[0m\u001b[0;34m.\u001b[0m\u001b[0mget\u001b[0m\u001b[0;34m(\u001b[0m\u001b[0murlC\u001b[0m\u001b[0;34m)\u001b[0m\u001b[0;34m\u001b[0m\u001b[0;34m\u001b[0m\u001b[0m\n\u001b[0m\u001b[1;32m     23\u001b[0m     \u001b[0msoup\u001b[0m \u001b[0;34m=\u001b[0m \u001b[0mBeautifulSoup\u001b[0m\u001b[0;34m(\u001b[0m\u001b[0mpage_course\u001b[0m\u001b[0;34m.\u001b[0m\u001b[0mcontent\u001b[0m\u001b[0;34m,\u001b[0m \u001b[0;34m'html.parser'\u001b[0m\u001b[0;34m)\u001b[0m\u001b[0;34m\u001b[0m\u001b[0;34m\u001b[0m\u001b[0m\n\u001b[1;32m     24\u001b[0m \u001b[0;34m\u001b[0m\u001b[0m\n",
            "\u001b[0;32m/usr/local/lib/python3.6/dist-packages/requests/api.py\u001b[0m in \u001b[0;36mget\u001b[0;34m(url, params, **kwargs)\u001b[0m\n\u001b[1;32m     74\u001b[0m \u001b[0;34m\u001b[0m\u001b[0m\n\u001b[1;32m     75\u001b[0m     \u001b[0mkwargs\u001b[0m\u001b[0;34m.\u001b[0m\u001b[0msetdefault\u001b[0m\u001b[0;34m(\u001b[0m\u001b[0;34m'allow_redirects'\u001b[0m\u001b[0;34m,\u001b[0m \u001b[0;32mTrue\u001b[0m\u001b[0;34m)\u001b[0m\u001b[0;34m\u001b[0m\u001b[0;34m\u001b[0m\u001b[0m\n\u001b[0;32m---> 76\u001b[0;31m     \u001b[0;32mreturn\u001b[0m \u001b[0mrequest\u001b[0m\u001b[0;34m(\u001b[0m\u001b[0;34m'get'\u001b[0m\u001b[0;34m,\u001b[0m \u001b[0murl\u001b[0m\u001b[0;34m,\u001b[0m \u001b[0mparams\u001b[0m\u001b[0;34m=\u001b[0m\u001b[0mparams\u001b[0m\u001b[0;34m,\u001b[0m \u001b[0;34m**\u001b[0m\u001b[0mkwargs\u001b[0m\u001b[0;34m)\u001b[0m\u001b[0;34m\u001b[0m\u001b[0;34m\u001b[0m\u001b[0m\n\u001b[0m\u001b[1;32m     77\u001b[0m \u001b[0;34m\u001b[0m\u001b[0m\n\u001b[1;32m     78\u001b[0m \u001b[0;34m\u001b[0m\u001b[0m\n",
            "\u001b[0;32m/usr/local/lib/python3.6/dist-packages/requests/api.py\u001b[0m in \u001b[0;36mrequest\u001b[0;34m(method, url, **kwargs)\u001b[0m\n\u001b[1;32m     59\u001b[0m     \u001b[0;31m# cases, and look like a memory leak in others.\u001b[0m\u001b[0;34m\u001b[0m\u001b[0;34m\u001b[0m\u001b[0;34m\u001b[0m\u001b[0m\n\u001b[1;32m     60\u001b[0m     \u001b[0;32mwith\u001b[0m \u001b[0msessions\u001b[0m\u001b[0;34m.\u001b[0m\u001b[0mSession\u001b[0m\u001b[0;34m(\u001b[0m\u001b[0;34m)\u001b[0m \u001b[0;32mas\u001b[0m \u001b[0msession\u001b[0m\u001b[0;34m:\u001b[0m\u001b[0;34m\u001b[0m\u001b[0;34m\u001b[0m\u001b[0m\n\u001b[0;32m---> 61\u001b[0;31m         \u001b[0;32mreturn\u001b[0m \u001b[0msession\u001b[0m\u001b[0;34m.\u001b[0m\u001b[0mrequest\u001b[0m\u001b[0;34m(\u001b[0m\u001b[0mmethod\u001b[0m\u001b[0;34m=\u001b[0m\u001b[0mmethod\u001b[0m\u001b[0;34m,\u001b[0m \u001b[0murl\u001b[0m\u001b[0;34m=\u001b[0m\u001b[0murl\u001b[0m\u001b[0;34m,\u001b[0m \u001b[0;34m**\u001b[0m\u001b[0mkwargs\u001b[0m\u001b[0;34m)\u001b[0m\u001b[0;34m\u001b[0m\u001b[0;34m\u001b[0m\u001b[0m\n\u001b[0m\u001b[1;32m     62\u001b[0m \u001b[0;34m\u001b[0m\u001b[0m\n\u001b[1;32m     63\u001b[0m \u001b[0;34m\u001b[0m\u001b[0m\n",
            "\u001b[0;32m/usr/local/lib/python3.6/dist-packages/requests/sessions.py\u001b[0m in \u001b[0;36mrequest\u001b[0;34m(self, method, url, params, data, headers, cookies, files, auth, timeout, allow_redirects, proxies, hooks, stream, verify, cert, json)\u001b[0m\n\u001b[1;32m    528\u001b[0m         }\n\u001b[1;32m    529\u001b[0m         \u001b[0msend_kwargs\u001b[0m\u001b[0;34m.\u001b[0m\u001b[0mupdate\u001b[0m\u001b[0;34m(\u001b[0m\u001b[0msettings\u001b[0m\u001b[0;34m)\u001b[0m\u001b[0;34m\u001b[0m\u001b[0;34m\u001b[0m\u001b[0m\n\u001b[0;32m--> 530\u001b[0;31m         \u001b[0mresp\u001b[0m \u001b[0;34m=\u001b[0m \u001b[0mself\u001b[0m\u001b[0;34m.\u001b[0m\u001b[0msend\u001b[0m\u001b[0;34m(\u001b[0m\u001b[0mprep\u001b[0m\u001b[0;34m,\u001b[0m \u001b[0;34m**\u001b[0m\u001b[0msend_kwargs\u001b[0m\u001b[0;34m)\u001b[0m\u001b[0;34m\u001b[0m\u001b[0;34m\u001b[0m\u001b[0m\n\u001b[0m\u001b[1;32m    531\u001b[0m \u001b[0;34m\u001b[0m\u001b[0m\n\u001b[1;32m    532\u001b[0m         \u001b[0;32mreturn\u001b[0m \u001b[0mresp\u001b[0m\u001b[0;34m\u001b[0m\u001b[0;34m\u001b[0m\u001b[0m\n",
            "\u001b[0;32m/usr/local/lib/python3.6/dist-packages/requests/sessions.py\u001b[0m in \u001b[0;36msend\u001b[0;34m(self, request, **kwargs)\u001b[0m\n\u001b[1;32m    641\u001b[0m \u001b[0;34m\u001b[0m\u001b[0m\n\u001b[1;32m    642\u001b[0m         \u001b[0;31m# Send the request\u001b[0m\u001b[0;34m\u001b[0m\u001b[0;34m\u001b[0m\u001b[0;34m\u001b[0m\u001b[0m\n\u001b[0;32m--> 643\u001b[0;31m         \u001b[0mr\u001b[0m \u001b[0;34m=\u001b[0m \u001b[0madapter\u001b[0m\u001b[0;34m.\u001b[0m\u001b[0msend\u001b[0m\u001b[0;34m(\u001b[0m\u001b[0mrequest\u001b[0m\u001b[0;34m,\u001b[0m \u001b[0;34m**\u001b[0m\u001b[0mkwargs\u001b[0m\u001b[0;34m)\u001b[0m\u001b[0;34m\u001b[0m\u001b[0;34m\u001b[0m\u001b[0m\n\u001b[0m\u001b[1;32m    644\u001b[0m \u001b[0;34m\u001b[0m\u001b[0m\n\u001b[1;32m    645\u001b[0m         \u001b[0;31m# Total elapsed time of the request (approximately)\u001b[0m\u001b[0;34m\u001b[0m\u001b[0;34m\u001b[0m\u001b[0;34m\u001b[0m\u001b[0m\n",
            "\u001b[0;32m/usr/local/lib/python3.6/dist-packages/requests/adapters.py\u001b[0m in \u001b[0;36msend\u001b[0;34m(self, request, stream, timeout, verify, cert, proxies)\u001b[0m\n\u001b[1;32m    447\u001b[0m                     \u001b[0mdecode_content\u001b[0m\u001b[0;34m=\u001b[0m\u001b[0;32mFalse\u001b[0m\u001b[0;34m,\u001b[0m\u001b[0;34m\u001b[0m\u001b[0;34m\u001b[0m\u001b[0m\n\u001b[1;32m    448\u001b[0m                     \u001b[0mretries\u001b[0m\u001b[0;34m=\u001b[0m\u001b[0mself\u001b[0m\u001b[0;34m.\u001b[0m\u001b[0mmax_retries\u001b[0m\u001b[0;34m,\u001b[0m\u001b[0;34m\u001b[0m\u001b[0;34m\u001b[0m\u001b[0m\n\u001b[0;32m--> 449\u001b[0;31m                     \u001b[0mtimeout\u001b[0m\u001b[0;34m=\u001b[0m\u001b[0mtimeout\u001b[0m\u001b[0;34m\u001b[0m\u001b[0;34m\u001b[0m\u001b[0m\n\u001b[0m\u001b[1;32m    450\u001b[0m                 )\n\u001b[1;32m    451\u001b[0m \u001b[0;34m\u001b[0m\u001b[0m\n",
            "\u001b[0;32m/usr/local/lib/python3.6/dist-packages/urllib3/connectionpool.py\u001b[0m in \u001b[0;36murlopen\u001b[0;34m(self, method, url, body, headers, retries, redirect, assert_same_host, timeout, pool_timeout, release_conn, chunked, body_pos, **response_kw)\u001b[0m\n\u001b[1;32m    598\u001b[0m                                                   \u001b[0mtimeout\u001b[0m\u001b[0;34m=\u001b[0m\u001b[0mtimeout_obj\u001b[0m\u001b[0;34m,\u001b[0m\u001b[0;34m\u001b[0m\u001b[0;34m\u001b[0m\u001b[0m\n\u001b[1;32m    599\u001b[0m                                                   \u001b[0mbody\u001b[0m\u001b[0;34m=\u001b[0m\u001b[0mbody\u001b[0m\u001b[0;34m,\u001b[0m \u001b[0mheaders\u001b[0m\u001b[0;34m=\u001b[0m\u001b[0mheaders\u001b[0m\u001b[0;34m,\u001b[0m\u001b[0;34m\u001b[0m\u001b[0;34m\u001b[0m\u001b[0m\n\u001b[0;32m--> 600\u001b[0;31m                                                   chunked=chunked)\n\u001b[0m\u001b[1;32m    601\u001b[0m \u001b[0;34m\u001b[0m\u001b[0m\n\u001b[1;32m    602\u001b[0m             \u001b[0;31m# If we're going to release the connection in ``finally:``, then\u001b[0m\u001b[0;34m\u001b[0m\u001b[0;34m\u001b[0m\u001b[0;34m\u001b[0m\u001b[0m\n",
            "\u001b[0;32m/usr/local/lib/python3.6/dist-packages/urllib3/connectionpool.py\u001b[0m in \u001b[0;36m_make_request\u001b[0;34m(self, conn, method, url, timeout, chunked, **httplib_request_kw)\u001b[0m\n\u001b[1;32m    378\u001b[0m             \u001b[0;32mexcept\u001b[0m \u001b[0mTypeError\u001b[0m\u001b[0;34m:\u001b[0m  \u001b[0;31m# Python 3\u001b[0m\u001b[0;34m\u001b[0m\u001b[0;34m\u001b[0m\u001b[0m\n\u001b[1;32m    379\u001b[0m                 \u001b[0;32mtry\u001b[0m\u001b[0;34m:\u001b[0m\u001b[0;34m\u001b[0m\u001b[0;34m\u001b[0m\u001b[0m\n\u001b[0;32m--> 380\u001b[0;31m                     \u001b[0mhttplib_response\u001b[0m \u001b[0;34m=\u001b[0m \u001b[0mconn\u001b[0m\u001b[0;34m.\u001b[0m\u001b[0mgetresponse\u001b[0m\u001b[0;34m(\u001b[0m\u001b[0;34m)\u001b[0m\u001b[0;34m\u001b[0m\u001b[0;34m\u001b[0m\u001b[0m\n\u001b[0m\u001b[1;32m    381\u001b[0m                 \u001b[0;32mexcept\u001b[0m \u001b[0mException\u001b[0m \u001b[0;32mas\u001b[0m \u001b[0me\u001b[0m\u001b[0;34m:\u001b[0m\u001b[0;34m\u001b[0m\u001b[0;34m\u001b[0m\u001b[0m\n\u001b[1;32m    382\u001b[0m                     \u001b[0;31m# Remove the TypeError from the exception chain in Python 3;\u001b[0m\u001b[0;34m\u001b[0m\u001b[0;34m\u001b[0m\u001b[0;34m\u001b[0m\u001b[0m\n",
            "\u001b[0;32m/usr/lib/python3.6/http/client.py\u001b[0m in \u001b[0;36mgetresponse\u001b[0;34m(self)\u001b[0m\n\u001b[1;32m   1371\u001b[0m         \u001b[0;32mtry\u001b[0m\u001b[0;34m:\u001b[0m\u001b[0;34m\u001b[0m\u001b[0;34m\u001b[0m\u001b[0m\n\u001b[1;32m   1372\u001b[0m             \u001b[0;32mtry\u001b[0m\u001b[0;34m:\u001b[0m\u001b[0;34m\u001b[0m\u001b[0;34m\u001b[0m\u001b[0m\n\u001b[0;32m-> 1373\u001b[0;31m                 \u001b[0mresponse\u001b[0m\u001b[0;34m.\u001b[0m\u001b[0mbegin\u001b[0m\u001b[0;34m(\u001b[0m\u001b[0;34m)\u001b[0m\u001b[0;34m\u001b[0m\u001b[0;34m\u001b[0m\u001b[0m\n\u001b[0m\u001b[1;32m   1374\u001b[0m             \u001b[0;32mexcept\u001b[0m \u001b[0mConnectionError\u001b[0m\u001b[0;34m:\u001b[0m\u001b[0;34m\u001b[0m\u001b[0;34m\u001b[0m\u001b[0m\n\u001b[1;32m   1375\u001b[0m                 \u001b[0mself\u001b[0m\u001b[0;34m.\u001b[0m\u001b[0mclose\u001b[0m\u001b[0;34m(\u001b[0m\u001b[0;34m)\u001b[0m\u001b[0;34m\u001b[0m\u001b[0;34m\u001b[0m\u001b[0m\n",
            "\u001b[0;32m/usr/lib/python3.6/http/client.py\u001b[0m in \u001b[0;36mbegin\u001b[0;34m(self)\u001b[0m\n\u001b[1;32m    309\u001b[0m         \u001b[0;31m# read until we get a non-100 response\u001b[0m\u001b[0;34m\u001b[0m\u001b[0;34m\u001b[0m\u001b[0;34m\u001b[0m\u001b[0m\n\u001b[1;32m    310\u001b[0m         \u001b[0;32mwhile\u001b[0m \u001b[0;32mTrue\u001b[0m\u001b[0;34m:\u001b[0m\u001b[0;34m\u001b[0m\u001b[0;34m\u001b[0m\u001b[0m\n\u001b[0;32m--> 311\u001b[0;31m             \u001b[0mversion\u001b[0m\u001b[0;34m,\u001b[0m \u001b[0mstatus\u001b[0m\u001b[0;34m,\u001b[0m \u001b[0mreason\u001b[0m \u001b[0;34m=\u001b[0m \u001b[0mself\u001b[0m\u001b[0;34m.\u001b[0m\u001b[0m_read_status\u001b[0m\u001b[0;34m(\u001b[0m\u001b[0;34m)\u001b[0m\u001b[0;34m\u001b[0m\u001b[0;34m\u001b[0m\u001b[0m\n\u001b[0m\u001b[1;32m    312\u001b[0m             \u001b[0;32mif\u001b[0m \u001b[0mstatus\u001b[0m \u001b[0;34m!=\u001b[0m \u001b[0mCONTINUE\u001b[0m\u001b[0;34m:\u001b[0m\u001b[0;34m\u001b[0m\u001b[0;34m\u001b[0m\u001b[0m\n\u001b[1;32m    313\u001b[0m                 \u001b[0;32mbreak\u001b[0m\u001b[0;34m\u001b[0m\u001b[0;34m\u001b[0m\u001b[0m\n",
            "\u001b[0;32m/usr/lib/python3.6/http/client.py\u001b[0m in \u001b[0;36m_read_status\u001b[0;34m(self)\u001b[0m\n\u001b[1;32m    270\u001b[0m \u001b[0;34m\u001b[0m\u001b[0m\n\u001b[1;32m    271\u001b[0m     \u001b[0;32mdef\u001b[0m \u001b[0m_read_status\u001b[0m\u001b[0;34m(\u001b[0m\u001b[0mself\u001b[0m\u001b[0;34m)\u001b[0m\u001b[0;34m:\u001b[0m\u001b[0;34m\u001b[0m\u001b[0;34m\u001b[0m\u001b[0m\n\u001b[0;32m--> 272\u001b[0;31m         \u001b[0mline\u001b[0m \u001b[0;34m=\u001b[0m \u001b[0mstr\u001b[0m\u001b[0;34m(\u001b[0m\u001b[0mself\u001b[0m\u001b[0;34m.\u001b[0m\u001b[0mfp\u001b[0m\u001b[0;34m.\u001b[0m\u001b[0mreadline\u001b[0m\u001b[0;34m(\u001b[0m\u001b[0m_MAXLINE\u001b[0m \u001b[0;34m+\u001b[0m \u001b[0;36m1\u001b[0m\u001b[0;34m)\u001b[0m\u001b[0;34m,\u001b[0m \u001b[0;34m\"iso-8859-1\"\u001b[0m\u001b[0;34m)\u001b[0m\u001b[0;34m\u001b[0m\u001b[0;34m\u001b[0m\u001b[0m\n\u001b[0m\u001b[1;32m    273\u001b[0m         \u001b[0;32mif\u001b[0m \u001b[0mlen\u001b[0m\u001b[0;34m(\u001b[0m\u001b[0mline\u001b[0m\u001b[0;34m)\u001b[0m \u001b[0;34m>\u001b[0m \u001b[0m_MAXLINE\u001b[0m\u001b[0;34m:\u001b[0m\u001b[0;34m\u001b[0m\u001b[0;34m\u001b[0m\u001b[0m\n\u001b[1;32m    274\u001b[0m             \u001b[0;32mraise\u001b[0m \u001b[0mLineTooLong\u001b[0m\u001b[0;34m(\u001b[0m\u001b[0;34m\"status line\"\u001b[0m\u001b[0;34m)\u001b[0m\u001b[0;34m\u001b[0m\u001b[0;34m\u001b[0m\u001b[0m\n",
            "\u001b[0;32m/usr/lib/python3.6/socket.py\u001b[0m in \u001b[0;36mreadinto\u001b[0;34m(self, b)\u001b[0m\n\u001b[1;32m    584\u001b[0m         \u001b[0;32mwhile\u001b[0m \u001b[0;32mTrue\u001b[0m\u001b[0;34m:\u001b[0m\u001b[0;34m\u001b[0m\u001b[0;34m\u001b[0m\u001b[0m\n\u001b[1;32m    585\u001b[0m             \u001b[0;32mtry\u001b[0m\u001b[0;34m:\u001b[0m\u001b[0;34m\u001b[0m\u001b[0;34m\u001b[0m\u001b[0m\n\u001b[0;32m--> 586\u001b[0;31m                 \u001b[0;32mreturn\u001b[0m \u001b[0mself\u001b[0m\u001b[0;34m.\u001b[0m\u001b[0m_sock\u001b[0m\u001b[0;34m.\u001b[0m\u001b[0mrecv_into\u001b[0m\u001b[0;34m(\u001b[0m\u001b[0mb\u001b[0m\u001b[0;34m)\u001b[0m\u001b[0;34m\u001b[0m\u001b[0;34m\u001b[0m\u001b[0m\n\u001b[0m\u001b[1;32m    587\u001b[0m             \u001b[0;32mexcept\u001b[0m \u001b[0mtimeout\u001b[0m\u001b[0;34m:\u001b[0m\u001b[0;34m\u001b[0m\u001b[0;34m\u001b[0m\u001b[0m\n\u001b[1;32m    588\u001b[0m                 \u001b[0mself\u001b[0m\u001b[0;34m.\u001b[0m\u001b[0m_timeout_occurred\u001b[0m \u001b[0;34m=\u001b[0m \u001b[0;32mTrue\u001b[0m\u001b[0;34m\u001b[0m\u001b[0;34m\u001b[0m\u001b[0m\n",
            "\u001b[0;32m/usr/lib/python3.6/ssl.py\u001b[0m in \u001b[0;36mrecv_into\u001b[0;34m(self, buffer, nbytes, flags)\u001b[0m\n\u001b[1;32m   1010\u001b[0m                   \u001b[0;34m\"non-zero flags not allowed in calls to recv_into() on %s\"\u001b[0m \u001b[0;34m%\u001b[0m\u001b[0;34m\u001b[0m\u001b[0;34m\u001b[0m\u001b[0m\n\u001b[1;32m   1011\u001b[0m                   self.__class__)\n\u001b[0;32m-> 1012\u001b[0;31m             \u001b[0;32mreturn\u001b[0m \u001b[0mself\u001b[0m\u001b[0;34m.\u001b[0m\u001b[0mread\u001b[0m\u001b[0;34m(\u001b[0m\u001b[0mnbytes\u001b[0m\u001b[0;34m,\u001b[0m \u001b[0mbuffer\u001b[0m\u001b[0;34m)\u001b[0m\u001b[0;34m\u001b[0m\u001b[0;34m\u001b[0m\u001b[0m\n\u001b[0m\u001b[1;32m   1013\u001b[0m         \u001b[0;32melse\u001b[0m\u001b[0;34m:\u001b[0m\u001b[0;34m\u001b[0m\u001b[0;34m\u001b[0m\u001b[0m\n\u001b[1;32m   1014\u001b[0m             \u001b[0;32mreturn\u001b[0m \u001b[0msocket\u001b[0m\u001b[0;34m.\u001b[0m\u001b[0mrecv_into\u001b[0m\u001b[0;34m(\u001b[0m\u001b[0mself\u001b[0m\u001b[0;34m,\u001b[0m \u001b[0mbuffer\u001b[0m\u001b[0;34m,\u001b[0m \u001b[0mnbytes\u001b[0m\u001b[0;34m,\u001b[0m \u001b[0mflags\u001b[0m\u001b[0;34m)\u001b[0m\u001b[0;34m\u001b[0m\u001b[0;34m\u001b[0m\u001b[0m\n",
            "\u001b[0;32m/usr/lib/python3.6/ssl.py\u001b[0m in \u001b[0;36mread\u001b[0;34m(self, len, buffer)\u001b[0m\n\u001b[1;32m    872\u001b[0m             \u001b[0;32mraise\u001b[0m \u001b[0mValueError\u001b[0m\u001b[0;34m(\u001b[0m\u001b[0;34m\"Read on closed or unwrapped SSL socket.\"\u001b[0m\u001b[0;34m)\u001b[0m\u001b[0;34m\u001b[0m\u001b[0;34m\u001b[0m\u001b[0m\n\u001b[1;32m    873\u001b[0m         \u001b[0;32mtry\u001b[0m\u001b[0;34m:\u001b[0m\u001b[0;34m\u001b[0m\u001b[0;34m\u001b[0m\u001b[0m\n\u001b[0;32m--> 874\u001b[0;31m             \u001b[0;32mreturn\u001b[0m \u001b[0mself\u001b[0m\u001b[0;34m.\u001b[0m\u001b[0m_sslobj\u001b[0m\u001b[0;34m.\u001b[0m\u001b[0mread\u001b[0m\u001b[0;34m(\u001b[0m\u001b[0mlen\u001b[0m\u001b[0;34m,\u001b[0m \u001b[0mbuffer\u001b[0m\u001b[0;34m)\u001b[0m\u001b[0;34m\u001b[0m\u001b[0;34m\u001b[0m\u001b[0m\n\u001b[0m\u001b[1;32m    875\u001b[0m         \u001b[0;32mexcept\u001b[0m \u001b[0mSSLError\u001b[0m \u001b[0;32mas\u001b[0m \u001b[0mx\u001b[0m\u001b[0;34m:\u001b[0m\u001b[0;34m\u001b[0m\u001b[0;34m\u001b[0m\u001b[0m\n\u001b[1;32m    876\u001b[0m             \u001b[0;32mif\u001b[0m \u001b[0mx\u001b[0m\u001b[0;34m.\u001b[0m\u001b[0margs\u001b[0m\u001b[0;34m[\u001b[0m\u001b[0;36m0\u001b[0m\u001b[0;34m]\u001b[0m \u001b[0;34m==\u001b[0m \u001b[0mSSL_ERROR_EOF\u001b[0m \u001b[0;32mand\u001b[0m \u001b[0mself\u001b[0m\u001b[0;34m.\u001b[0m\u001b[0msuppress_ragged_eofs\u001b[0m\u001b[0;34m:\u001b[0m\u001b[0;34m\u001b[0m\u001b[0;34m\u001b[0m\u001b[0m\n",
            "\u001b[0;32m/usr/lib/python3.6/ssl.py\u001b[0m in \u001b[0;36mread\u001b[0;34m(self, len, buffer)\u001b[0m\n\u001b[1;32m    629\u001b[0m         \"\"\"\n\u001b[1;32m    630\u001b[0m         \u001b[0;32mif\u001b[0m \u001b[0mbuffer\u001b[0m \u001b[0;32mis\u001b[0m \u001b[0;32mnot\u001b[0m \u001b[0;32mNone\u001b[0m\u001b[0;34m:\u001b[0m\u001b[0;34m\u001b[0m\u001b[0;34m\u001b[0m\u001b[0m\n\u001b[0;32m--> 631\u001b[0;31m             \u001b[0mv\u001b[0m \u001b[0;34m=\u001b[0m \u001b[0mself\u001b[0m\u001b[0;34m.\u001b[0m\u001b[0m_sslobj\u001b[0m\u001b[0;34m.\u001b[0m\u001b[0mread\u001b[0m\u001b[0;34m(\u001b[0m\u001b[0mlen\u001b[0m\u001b[0;34m,\u001b[0m \u001b[0mbuffer\u001b[0m\u001b[0;34m)\u001b[0m\u001b[0;34m\u001b[0m\u001b[0;34m\u001b[0m\u001b[0m\n\u001b[0m\u001b[1;32m    632\u001b[0m         \u001b[0;32melse\u001b[0m\u001b[0;34m:\u001b[0m\u001b[0;34m\u001b[0m\u001b[0;34m\u001b[0m\u001b[0m\n\u001b[1;32m    633\u001b[0m             \u001b[0mv\u001b[0m \u001b[0;34m=\u001b[0m \u001b[0mself\u001b[0m\u001b[0;34m.\u001b[0m\u001b[0m_sslobj\u001b[0m\u001b[0;34m.\u001b[0m\u001b[0mread\u001b[0m\u001b[0;34m(\u001b[0m\u001b[0mlen\u001b[0m\u001b[0;34m)\u001b[0m\u001b[0;34m\u001b[0m\u001b[0;34m\u001b[0m\u001b[0m\n",
            "\u001b[0;31mKeyboardInterrupt\u001b[0m: "
          ]
        }
      ]
    },
    {
      "cell_type": "code",
      "metadata": {
        "id": "d2YdFxnww9tG",
        "outputId": "dbc1a3ae-81a0-403a-93c8-d9e2cd4c5eb5",
        "colab": {
          "base_uri": "https://localhost:8080/"
        }
      },
      "source": [
        "course_link"
      ],
      "execution_count": 116,
      "outputs": [
        {
          "output_type": "execute_result",
          "data": {
            "text/plain": [
              "['https://www.coursera.org/learn/makingprogress',\n",
              " 'https://www.coursera.org/learn/writing-for-business-ar',\n",
              " 'https://www.coursera.org/learn/ictus-agudo-escala-race',\n",
              " 'https://www.coursera.org/learn/brand-and-content-marketing',\n",
              " 'https://www.coursera.org/learn/cluster-analysis-rcmdr',\n",
              " 'https://www.coursera.org/learn/comercio-inmigracion-tipos-de-cambio',\n",
              " 'https://www.coursera.org/learn/create-a-budget-with-google-sheets',\n",
              " 'https://www.coursera.org/learn/enhance-organizational-communications-with-slack',\n",
              " 'https://www.coursera.org/learn/fpga-intro',\n",
              " 'https://www.coursera.org/learn/chinese-character-writing-2',\n",
              " 'https://www.coursera.org/learn/healthcare-payment-models',\n",
              " 'https://www.coursera.org/learn/it-security',\n",
              " 'https://www.coursera.org/learn/network-transformation-101',\n",
              " 'https://www.coursera.org/learn/international-labour-law',\n",
              " 'https://www.coursera.org/learn/introduction-g-suite',\n",
              " 'https://www.coursera.org/learn/javascript-while-loop',\n",
              " 'https://www.coursera.org/learn/know-thyself-the-examined-life',\n",
              " 'https://www.coursera.org/learn/managing-g-suite',\n",
              " 'https://www.coursera.org/learn/mandarin-chinese-intermediate-learners-1',\n",
              " 'https://www.coursera.org/learn/data-lakes-data-warehouses-gcp',\n",
              " 'https://www.coursera.org/learn/predictive-analytics-business-h2o-r',\n",
              " 'https://www.coursera.org/learn/acute-stroke-race-scale',\n",
              " 'https://www.coursera.org/learn/ocr-text-detection-tensorflow-opencv-tesseract',\n",
              " 'https://www.coursera.org/learn/strategically-build-and-engage-your-network-on-linkedin',\n",
              " 'https://www.coursera.org/learn/supervised-learning-classification',\n",
              " 'https://www.coursera.org/learn/system-administration-it-infrastructure-services',\n",
              " 'https://www.coursera.org/learn/ibm-unsupervised-learning',\n",
              " 'https://www.coursera.org/learn/use-canva-to-create-desktop-and-mobile-friendly-webpages',\n",
              " 'https://www.coursera.org/learn/biznes-na-svoi-mosigra',\n",
              " 'https://www.coursera.org/learn/zakon-startapa-tekhnologicheskogo-biznesa',\n",
              " 'https://www.coursera.org/learn/int-lab-law-ru',\n",
              " 'https://www.coursera.org/learn/russkiy-kak-inostrannyy-b1-2',\n",
              " 'https://www.coursera.org/learn/google-classroom-for-students-arabic',\n",
              " 'https://www.coursera.org/learn/lung-cancer',\n",
              " 'https://www.coursera.org/learn/nonstatusquo-attitudes-netlogo',\n",
              " 'https://www.coursera.org/learn/presentation-skills-ar',\n",
              " 'https://www.coursera.org/learn/net-ruanjian-kaifa-biye',\n",
              " 'https://www.coursera.org/learn/calculo-1',\n",
              " 'https://www.coursera.org/learn/how-computers-work-mooc-copy',\n",
              " 'https://www.coursera.org/learn/calculo-2',\n",
              " 'https://www.coursera.org/learn/20cnwm',\n",
              " 'https://www.coursera.org/learn/3-axis-machining-autodesk-fusion-360',\n",
              " 'https://www.coursera.org/learn/calculo-3',\n",
              " 'https://www.coursera.org/learn/3d-art-and-audio-pipeline',\n",
              " 'https://www.coursera.org/learn/3d-cad-application',\n",
              " 'https://www.coursera.org/learn/3d-cad-fundamental',\n",
              " 'https://www.coursera.org/learn/data-visualization-science-communication',\n",
              " 'https://www.coursera.org/learn/3d-graphics-android-sensors-vr',\n",
              " 'https://www.coursera.org/learn/3d-interaction-design-virtual-reality',\n",
              " 'https://www.coursera.org/learn/3d-interactions-and-navigation',\n",
              " 'https://www.coursera.org/learn/3d-model-creation-fusion-360',\n",
              " 'https://www.coursera.org/learn/3d-models-virtual-reality',\n",
              " 'https://www.coursera.org/learn/3d-printing-applications',\n",
              " 'https://www.coursera.org/learn/3d-printing-capstone',\n",
              " 'https://www.coursera.org/learn/3d-print-hardware',\n",
              " 'https://www.coursera.org/learn/3d-printing-software',\n",
              " 'https://www.coursera.org/learn/3d-sars-cov-19-protein-visualization-with-biopython',\n",
              " 'https://www.coursera.org/learn/3d-printing',\n",
              " 'https://www.coursera.org/learn/calculo-4',\n",
              " 'https://www.coursera.org/learn/human-spaceflight',\n",
              " 'https://www.coursera.org/learn/landscape-restoration-sustainable-development',\n",
              " 'https://www.coursera.org/learn/circular-economy-metals',\n",
              " 'https://www.coursera.org/learn/complete-reinforcement-learning-system',\n",
              " 'https://www.coursera.org/learn/crash-course-in-causality']"
            ]
          },
          "metadata": {
            "tags": []
          },
          "execution_count": 116
        }
      ]
    },
    {
      "cell_type": "code",
      "metadata": {
        "id": "CRvPK9RaiLpv"
      },
      "source": [
        "#Attaching Course Languages\n",
        "\n",
        "courseraCourses=pd.DataFrame({'course_name':course_name,\n",
        "'course_type':typ,\n",
        "'university':university_name,\n",
        "'course_link':course_link,\n",
        "'course_category':category,\n",
        "'course_sub_category':sub_category,\n",
        "'univ_logo':university_logo,\n",
        "'course_lang':lg,\n",
        "'course_subtitles':subtitles,\n",
        "'course_level':level,\n",
        "'course_period':time_required,\n",
        "'course_skills':course_skills\n",
        "\n",
        "})"
      ],
      "execution_count": 94,
      "outputs": []
    },
    {
      "cell_type": "code",
      "metadata": {
        "id": "9pZOczKIsV_-",
        "outputId": "51cee7f3-91f3-4fc3-a9d9-f2620340ea72",
        "colab": {
          "base_uri": "https://localhost:8080/",
          "height": 438
        }
      },
      "source": [
        "courseraCourses"
      ],
      "execution_count": 95,
      "outputs": [
        {
          "output_type": "execute_result",
          "data": {
            "text/html": [
              "<div>\n",
              "<style scoped>\n",
              "    .dataframe tbody tr th:only-of-type {\n",
              "        vertical-align: middle;\n",
              "    }\n",
              "\n",
              "    .dataframe tbody tr th {\n",
              "        vertical-align: top;\n",
              "    }\n",
              "\n",
              "    .dataframe thead th {\n",
              "        text-align: right;\n",
              "    }\n",
              "</style>\n",
              "<table border=\"1\" class=\"dataframe\">\n",
              "  <thead>\n",
              "    <tr style=\"text-align: right;\">\n",
              "      <th></th>\n",
              "      <th>course_name</th>\n",
              "      <th>course_type</th>\n",
              "      <th>university</th>\n",
              "      <th>course_link</th>\n",
              "      <th>course_category</th>\n",
              "      <th>course_sub_category</th>\n",
              "      <th>univ_logo</th>\n",
              "      <th>course_lang</th>\n",
              "      <th>course_subtitles</th>\n",
              "      <th>course_level</th>\n",
              "      <th>course_period</th>\n",
              "      <th>course_skills</th>\n",
              "    </tr>\n",
              "  </thead>\n",
              "  <tbody>\n",
              "    <tr>\n",
              "      <th>0</th>\n",
              "      <td>Know Thyself - The Value and Limits of Self-K...</td>\n",
              "      <td>COURSE</td>\n",
              "      <td>The University of Edinburgh</td>\n",
              "      <td>https://www.coursera.org/learn/know-thyself-th...</td>\n",
              "      <td>Arts and Humanities</td>\n",
              "      <td>Philosophy</td>\n",
              "      <td>https://d3njjcbhbojbot.cloudfront.net/api/util...</td>\n",
              "      <td>English</td>\n",
              "      <td>Subtitles: English</td>\n",
              "      <td>Beginner Level</td>\n",
              "      <td>Approx. 19 hours to complete</td>\n",
              "      <td>[]</td>\n",
              "    </tr>\n",
              "    <tr>\n",
              "      <th>1</th>\n",
              "      <td>Use Canva to Create Desktop and Mobile-friend...</td>\n",
              "      <td>GUIDED PROJECT</td>\n",
              "      <td>Coursera Project Network</td>\n",
              "      <td>https://www.coursera.org/learn/use-canva-to-cr...</td>\n",
              "      <td>Business</td>\n",
              "      <td>Marketing</td>\n",
              "      <td>https://d3njjcbhbojbot.cloudfront.net/api/util...</td>\n",
              "      <td>English</td>\n",
              "      <td>Subtitles: English</td>\n",
              "      <td>Beginner</td>\n",
              "      <td>[2 hours]</td>\n",
              "      <td>[Digital Marketting, Social Media, Business, G...</td>\n",
              "    </tr>\n",
              "    <tr>\n",
              "      <th>2</th>\n",
              "      <td>Supervised Learning: Classification</td>\n",
              "      <td>COURSE</td>\n",
              "      <td>IBM</td>\n",
              "      <td>https://www.coursera.org/learn/supervised-lear...</td>\n",
              "      <td>Data Science</td>\n",
              "      <td>Machine Learning</td>\n",
              "      <td>https://d3njjcbhbojbot.cloudfront.net/api/util...</td>\n",
              "      <td>English</td>\n",
              "      <td>Subtitles: English</td>\n",
              "      <td>Intermediate Level</td>\n",
              "      <td>Approx. 11 hours to complete</td>\n",
              "      <td>[Decision Tree, Ensemble Learning, Classificat...</td>\n",
              "    </tr>\n",
              "    <tr>\n",
              "      <th>3</th>\n",
              "      <td>System Administration and IT Infrastructure S...</td>\n",
              "      <td>COURSE</td>\n",
              "      <td>Google</td>\n",
              "      <td>https://www.coursera.org/learn/system-administ...</td>\n",
              "      <td>Information Technology</td>\n",
              "      <td>Support and Operations</td>\n",
              "      <td>https://d3njjcbhbojbot.cloudfront.net/api/util...</td>\n",
              "      <td>English</td>\n",
              "      <td>Subtitles: English</td>\n",
              "      <td>Beginner Level</td>\n",
              "      <td>Approx. 31 hours to complete</td>\n",
              "      <td>[Directory Service, Lightweight Directory Acce...</td>\n",
              "    </tr>\n",
              "  </tbody>\n",
              "</table>\n",
              "</div>"
            ],
            "text/plain": [
              "                                         course_name  ...                                      course_skills\n",
              "0   Know Thyself - The Value and Limits of Self-K...  ...                                                 []\n",
              "1   Use Canva to Create Desktop and Mobile-friend...  ...  [Digital Marketting, Social Media, Business, G...\n",
              "2                Supervised Learning: Classification  ...  [Decision Tree, Ensemble Learning, Classificat...\n",
              "3   System Administration and IT Infrastructure S...  ...  [Directory Service, Lightweight Directory Acce...\n",
              "\n",
              "[4 rows x 12 columns]"
            ]
          },
          "metadata": {
            "tags": []
          },
          "execution_count": 95
        }
      ]
    },
    {
      "cell_type": "code",
      "metadata": {
        "id": "jMF7T1DvW-dX",
        "outputId": "4bb596db-0ac9-45fb-9271-247a29bd79b0",
        "colab": {
          "base_uri": "https://localhost:8080/",
          "height": 36
        }
      },
      "source": [
        "url=\"https://www.coursera.org/projects/power-bi-desktop\"\n",
        "page_course = requests.get(url)\n",
        "soup = BeautifulSoup(page_course.content, 'html.parser')\n",
        "lang=soup.find_all(\"div\",class_=\"_8m7gipb _1f096on\")[1]\n",
        "lgg= lang.find(\"span\").get_text()\n",
        "lgg"
      ],
      "execution_count": 114,
      "outputs": [
        {
          "output_type": "execute_result",
          "data": {
            "application/vnd.google.colaboratory.intrinsic+json": {
              "type": "string"
            },
            "text/plain": [
              "'Beginner'"
            ]
          },
          "metadata": {
            "tags": []
          },
          "execution_count": 114
        }
      ]
    },
    {
      "cell_type": "code",
      "metadata": {
        "id": "QE4XQ7neDfYv"
      },
      "source": [
        ""
      ],
      "execution_count": null,
      "outputs": []
    },
    {
      "cell_type": "code",
      "metadata": {
        "id": "_2F3hdkQW-fS"
      },
      "source": [
        ""
      ],
      "execution_count": null,
      "outputs": []
    }
  ]
}