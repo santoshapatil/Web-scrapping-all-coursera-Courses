{
  "nbformat": 4,
  "nbformat_minor": 0,
  "metadata": {
    "kernelspec": {
      "display_name": "Python 3",
      "language": "python",
      "name": "python3"
    },
    "language_info": {
      "codemirror_mode": {
        "name": "ipython",
        "version": 3
      },
      "file_extension": ".py",
      "mimetype": "text/x-python",
      "name": "python",
      "nbconvert_exporter": "python",
      "pygments_lexer": "ipython3",
      "version": "3.8.2"
    },
    "colab": {
      "name": "Get all courses",
      "provenance": [],
      "collapsed_sections": [],
      "toc_visible": true
    }
  },
  "cells": [
    {
      "cell_type": "code",
      "metadata": {
        "id": "5Jh0j1APW-bR"
      },
      "source": [
        "from bs4 import BeautifulSoup\n",
        "import requests\n",
        "import os\n",
        "import pandas as pd"
      ],
      "execution_count": 1,
      "outputs": []
    },
    {
      "cell_type": "code",
      "metadata": {
        "id": "PAPii3fPSljL",
        "outputId": "37f13b8d-3f58-4928-d12f-78e19736d33a",
        "colab": {
          "base_uri": "https://localhost:8080/"
        }
      },
      "source": [
        "#For Specialization\n",
        "spl_title=[]\n",
        "spl_link=[]\n",
        "\n",
        "import timeit\n",
        "\n",
        "import time\n",
        "start = time.time()\n",
        "for i in range(1,16):\n",
        "    #44&index=prod_all_products_term_optimization_v3&entityTypeDescription=Specializations&allLanguages=English\n",
        "    url = \"https://www.coursera.org/directory/specializations?page=\" +str(i)\n",
        "    page = requests.get(url)\n",
        "    soup = BeautifulSoup(page.content, 'html.parser')\n",
        "    st = soup.find_all('a', class_ =\"c-directory-link\")\n",
        "    num=len(st)\n",
        "    for j in range(1,num):\n",
        "        #spl-title\n",
        "        st = soup.find_all('a', class_ =\"c-directory-link\")[j].get_text()\n",
        "        spl_title.append(st)       \n",
        "        #spl URL\n",
        "        curl= soup.find_all(\"a\", class_='c-directory-link')[j]\n",
        "        spl_link.append(\"https://www.coursera.org\"+ curl.get('href'))\n",
        "stop = time.time()\n",
        "print(f\"Training time: {stop - start}s\")\n",
        "#creating a dataframe of all specializations\n",
        "splz=pd.DataFrame({'spl_title':spl_title,\n",
        "                   'spl_link':spl_link})\n",
        "\n",
        "\n",
        "#writing into a .csv file\n",
        "#coursera_df.to_csv('Coursera_catalog.csv')"
      ],
      "execution_count": null,
      "outputs": [
        {
          "output_type": "stream",
          "text": [
            "Training time: 26.182609796524048s\n"
          ],
          "name": "stdout"
        }
      ]
    },
    {
      "cell_type": "code",
      "metadata": {
        "id": "OscX1URmVySd"
      },
      "source": [
        "#get all courses on coursera\n",
        "course_title=[]\n",
        "course_link=[]\n",
        "\n",
        "cnt=0\n",
        "for i in range(1,153):\n",
        "    #44&index=prod_all_products_term_optimization_v3&entityTypeDescription=Specializations&allLanguages=English\n",
        "    url = \"https://www.coursera.org/directory/courses?page=\" +str(i)\n",
        "    page = requests.get(url)\n",
        "    soup = BeautifulSoup(page.content, 'html.parser')\n",
        "    st = soup.find_all('a', class_ =\"c-directory-link\")\n",
        "    num=len(st)\n",
        "    for j in range(1,num):\n",
        "        #course-title\n",
        "        ct = soup.find_all('a', class_ =\"c-directory-link\")[j].get_text()\n",
        "        cnt=cnt+1\n",
        "        course_title.append(ct)       \n",
        "        #course URL\n",
        "        curl= soup.find_all(\"a\", class_='c-directory-link')[j]\n",
        "        course_link.append(\"https://www.coursera.org\"+ curl.get('href'))\n",
        "\n",
        "#creating a dataframe of all specializations\n",
        "courses=pd.DataFrame({'course_title':course_title,\n",
        "                   'course_link':course_link})\n",
        "\n",
        "#writing into a .csv file\n",
        "#coursera_df.to_csv('Coursera_catalog.csv')"
      ],
      "execution_count": 2,
      "outputs": []
    },
    {
      "cell_type": "code",
      "metadata": {
        "id": "LBTVNisRyb-Z",
        "outputId": "638bb178-dbb9-4c1d-e060-bfe4e9d9cb0b",
        "colab": {
          "base_uri": "https://localhost:8080/"
        }
      },
      "source": [
        "courses.course_link.describe"
      ],
      "execution_count": null,
      "outputs": [
        {
          "output_type": "execute_result",
          "data": {
            "text/plain": [
              "<bound method NDFrame.describe of 0           https://www.coursera.org/learn/makingprogress\n",
              "1       https://www.coursera.org/learn/writing-for-bus...\n",
              "2       https://www.coursera.org/learn/ictus-agudo-esc...\n",
              "3       https://www.coursera.org/learn/brand-and-conte...\n",
              "4       https://www.coursera.org/learn/cluster-analysi...\n",
              "                              ...                        \n",
              "5163       https://www.coursera.org/learn/jisuanji-xitong\n",
              "5164      https://www.coursera.org/learn/jisuanji-zucheng\n",
              "5165        https://www.coursera.org/learn/fanyi-ruanjian\n",
              "5166    https://www.coursera.org/learn/lunwen-xiezuo-c...\n",
              "5167    https://www.coursera.org/learn/game-theory-and...\n",
              "Name: course_link, Length: 5168, dtype: object>"
            ]
          },
          "metadata": {
            "tags": []
          },
          "execution_count": 144
        }
      ]
    },
    {
      "cell_type": "code",
      "metadata": {
        "id": "GBzKsckQi2Cx",
        "outputId": "93192f83-5bf3-4f39-f71f-fde605932f8b",
        "colab": {
          "base_uri": "https://localhost:8080/",
          "height": 175
        }
      },
      "source": [
        "cs=courses.iloc[[16,27,24,25]]\n",
        "cs"
      ],
      "execution_count": null,
      "outputs": [
        {
          "output_type": "execute_result",
          "data": {
            "text/html": [
              "<div>\n",
              "<style scoped>\n",
              "    .dataframe tbody tr th:only-of-type {\n",
              "        vertical-align: middle;\n",
              "    }\n",
              "\n",
              "    .dataframe tbody tr th {\n",
              "        vertical-align: top;\n",
              "    }\n",
              "\n",
              "    .dataframe thead th {\n",
              "        text-align: right;\n",
              "    }\n",
              "</style>\n",
              "<table border=\"1\" class=\"dataframe\">\n",
              "  <thead>\n",
              "    <tr style=\"text-align: right;\">\n",
              "      <th></th>\n",
              "      <th>course_title</th>\n",
              "      <th>course_link</th>\n",
              "    </tr>\n",
              "  </thead>\n",
              "  <tbody>\n",
              "    <tr>\n",
              "      <th>16</th>\n",
              "      <td>Know Thyself - The Value and Limits of Self-Kn...</td>\n",
              "      <td>https://www.coursera.org/learn/know-thyself-th...</td>\n",
              "    </tr>\n",
              "    <tr>\n",
              "      <th>27</th>\n",
              "      <td>Use Canva to Create Desktop and Mobile-friendl...</td>\n",
              "      <td>https://www.coursera.org/learn/use-canva-to-cr...</td>\n",
              "    </tr>\n",
              "    <tr>\n",
              "      <th>24</th>\n",
              "      <td>Supervised Learning: Classification (IBM)</td>\n",
              "      <td>https://www.coursera.org/learn/supervised-lear...</td>\n",
              "    </tr>\n",
              "    <tr>\n",
              "      <th>25</th>\n",
              "      <td>System Administration and IT Infrastructure Se...</td>\n",
              "      <td>https://www.coursera.org/learn/system-administ...</td>\n",
              "    </tr>\n",
              "  </tbody>\n",
              "</table>\n",
              "</div>"
            ],
            "text/plain": [
              "                                         course_title                                        course_link\n",
              "16  Know Thyself - The Value and Limits of Self-Kn...  https://www.coursera.org/learn/know-thyself-th...\n",
              "27  Use Canva to Create Desktop and Mobile-friendl...  https://www.coursera.org/learn/use-canva-to-cr...\n",
              "24          Supervised Learning: Classification (IBM)  https://www.coursera.org/learn/supervised-lear...\n",
              "25  System Administration and IT Infrastructure Se...  https://www.coursera.org/learn/system-administ..."
            ]
          },
          "metadata": {
            "tags": []
          },
          "execution_count": 91
        }
      ]
    },
    {
      "cell_type": "code",
      "metadata": {
        "id": "GsGeoprrW-dA"
      },
      "source": [
        "#To get detail of each course\n",
        "\n",
        "course_name=[]\n",
        "course_type=[]\n",
        "course_photo_URL=[]\n",
        "typ=[]\n",
        "typ_name=[]\n",
        "university_name=[]\n",
        "university_logo=[]\n",
        "course_link=[]\n",
        "spl_skills=[]\n",
        "course_tit=[]\n",
        "time_required=[]\n",
        "level=[]\n",
        "course_language=[]\n",
        "course_subtitles=[]\n",
        "course_skills=[]\n",
        "category=[]\n",
        "sub_category=[]\n",
        "start = time.time()\n",
        "for urlC in courses.course_link[1222:5168]:\n",
        "    page_course = requests.get(urlC)\n",
        "    soup = BeautifulSoup(page_course.content, 'html.parser')\n",
        "    \n",
        "    guided=soup.find('div',class_=\"_fc5ifbq _bv93ce\")\n",
        "    \n",
        "    if guided is None:\n",
        "      #Attaching Course Link\n",
        "      course_link.append(urlC)\n",
        "      #Attaching course Name/Title\n",
        "      cnn=soup.find('h1',class_=\"banner-title m-b-0 banner-title-without--subtitle\").get_text()\n",
        "      course_name.append(cnn)\n",
        "      #Attaching type of course\n",
        "      typ.append('COURSE')\n",
        "      \n",
        "      #attaching University /name\n",
        "      univ = soup.find('h4', class_ = 'headline-4-text bold rc-Partner__title').get_text()\n",
        "      university_name.append(univ)\n",
        "\n",
        "      #attaching University photo\n",
        "      u_logo=soup.find('div',class_='rc-Partner')\n",
        "      l=u_logo.find('img').get('src')\n",
        "      university_logo.append(l)\n",
        "      \n",
        "      \n",
        "      try:\n",
        "        \n",
        "\n",
        "      #Attaching course level(Beginner/Intermediate/ Advanced) and  time required to complete\n",
        "        fet=soup.find_all('div',class_='_y1d9czk m-b-2 p-t-1s')\n",
        "        for i in range(len(fet)):\n",
        "          fett=fet.find('div',class_=\"_16ni8zai m-b-0 m-t-1s\")[i].get_text()\n",
        "          if 'Level'in fett:\n",
        "            level.append(fett)\n",
        "          \n",
        "          elif 'complete' in fett:\n",
        "            time_required.append(fett)\n",
        "\n",
        "      except:\n",
        "        level.append(\"mixed/not-mentioned\")\n",
        "        time_required.append(\"not-mentioned\")\n",
        "\n",
        "      \n",
        "      \n",
        "      \n",
        "      #Attaching Course Languages and course subtitles\n",
        "      lang=soup.find_all(\"div\",class_=\"_y1d9czk m-b-2 p-t-1s\")[-1]\n",
        "      lgg= lang.find(\"div\",class_=\"_16ni8zai m-b-0\").get_text()\n",
        "      subtitless=lang.find(\"div\",class_=\"content-inner\").get_text()\n",
        "      course_language.append(lgg)\n",
        "      course_subtitles.append(subtitless)\n",
        "\n",
        "      #Attachng course skills\n",
        "      skills= [x.get_text() for x in soup.find_all('span', class_ = '_rsc0bd m-r-1s m-b-1s')]\n",
        "      course_skills.append(skills)\n",
        "      skills=[]\n",
        "\n",
        "      #attaching Course Category and sub-category\n",
        "      try:\n",
        "        subj = soup.find_all('a',class_ = '_172v19u6 color-white font-weight-bold')\n",
        "        category.append(subj[1].get_text())\n",
        "        sub_category.append(subj[2].get_text())\n",
        "      except IndexError:\n",
        "        category.append(\"not-mentioned\")\n",
        "        sub_category.append(\"not-mentioned\")\n",
        "      \n",
        "    else:\n",
        "      #Attaching Course Link\n",
        "      course_link.append(urlC)\n",
        "      #Attaching course Name/Title\n",
        "      cnn=soup.find('h1',class_=\"_125g251l _gkjc69\").get_text()\n",
        "      course_name.append(cnn)\n",
        "      #Attaching type of course\n",
        "      typ.append('GUIDED PROJECT')\n",
        "      \n",
        "      #attaching University /name\n",
        "      university_name.append('Coursera Project Network')\n",
        "\n",
        "      #attaching University photo\n",
        "      u_logo=soup.find('div',class_='_1tu07i3a')\n",
        "      l=u_logo.find('img').get('src')\n",
        "      university_logo.append(l)\n",
        "      #Attaching course level(Beginner/Intermediate/ Advanced) and  time required to complete\n",
        "      try:\n",
        "        lang=soup.find_all(\"div\",class_=\"_8m7gipb _1f096on\")[1]\n",
        "        lgg= lang.find(\"span\").get_text()\n",
        "      \n",
        "        level.append(lgg)\n",
        "      \n",
        "      #time required to complete the course\n",
        "        vtim=soup.find('span',class_='_1rcyblj')\n",
        "        time_required.append(vtim)\n",
        "      #Attaching Course Languages and course subtitles\n",
        "        lang=soup.find_all(\"span\",class_=\"_1rcyblj\")[-2].get_text()\n",
        "        course_language.append(lang)\n",
        "        course_subtitles.append(lang)\n",
        "\n",
        "      except:\n",
        "        level.append(\"mixed/not-mentioned\")\n",
        "        time_required.append(\"not-mentioned\")\n",
        "        course_language.append(\"not-mentioned\")\n",
        "        course_subtitles.append(\"not-mentioned\")\n",
        "\n",
        "\n",
        "      #Attachng course skills\n",
        "      try:\n",
        "        skills= [x.get_text() for x in soup.find_all('span', class_ = '_1q9sh65')]\n",
        "        course_skills.append(skills)\n",
        "        skills=[]\n",
        "      except:\n",
        "        course_skills.append(\"not-mentioned\")\n",
        "        \n",
        "\n",
        "      #attaching Course Category and sub-category\n",
        "      try:\n",
        "\n",
        "        subj = soup.find_all('a',class_ = '_k8ap7s6')\n",
        "        category.append(subj[1].get_text())\n",
        "        sub_category.append(subj[2].get_text())\n",
        "      except IndexError:       \n",
        "        category.append(\"not-mentioned\")\n",
        "        sub_category.append(\"not-mentioned\")\n",
        "stop = time.time()\n",
        "print(f\"Training time: {stop - start}s\")"
      ],
      "execution_count": null,
      "outputs": []
    },
    {
      "cell_type": "code",
      "metadata": {
        "id": "nUWRjSLtQM3Q"
      },
      "source": [
        ""
      ],
      "execution_count": null,
      "outputs": []
    },
    {
      "cell_type": "code",
      "metadata": {
        "id": "5aWmZSXbClwI",
        "outputId": "e1132eb4-cd42-46d9-9dc9-ec2d6184e483",
        "colab": {
          "base_uri": "https://localhost:8080/"
        }
      },
      "source": [
        "len(course_link)"
      ],
      "execution_count": null,
      "outputs": [
        {
          "output_type": "execute_result",
          "data": {
            "text/plain": [
              "6"
            ]
          },
          "metadata": {
            "tags": []
          },
          "execution_count": 155
        }
      ]
    },
    {
      "cell_type": "code",
      "metadata": {
        "id": "0sZyiM8p_4Nh",
        "outputId": "3508d0d7-f2da-4994-9106-171d508f1954",
        "colab": {
          "base_uri": "https://localhost:8080/",
          "height": 246
        }
      },
      "source": [
        "#To get detail of each course\n",
        "\n",
        "course_name=[]\n",
        "course_type=[]\n",
        "course_photo_URL=[]\n",
        "typ=[]\n",
        "typ_name=[]\n",
        "university_name=[]\n",
        "university_logo=[]\n",
        "course_link=[]\n",
        "spl_skills=[]\n",
        "course_tit=[]\n",
        "time_required=[]\n",
        "level=[]\n",
        "course_language=[]\n",
        "course_subtitles=[]\n",
        "course_skills=[]\n",
        "category=[]\n",
        "sub_category=[]\n",
        "start = time.time()\n",
        "for urlC in courses.course_link:\n",
        "    page_course = requests.get(urlC)\n",
        "    soup = BeautifulSoup(page_course.content, 'html.parser')\n",
        "    \n",
        "    guided=soup.find('div',class_=\"_fc5ifbq _bv93ce\")\n",
        "    \n",
        "    if guided is None:\n",
        "      #Attaching course Name/Title\n",
        "      cnn=soup.find('h1',class_=\"banner-title m-b-0 banner-title-without--subtitle\")\n",
        "      if cnn is None:\n",
        "        continue\n",
        "      else:\n",
        "        cnn.get_text()\n",
        "        course_name.append(cnn)\n",
        "\n",
        "\n",
        "      \n",
        "      #Attaching Course Link\n",
        "      course_link.append(urlC)\n",
        "\n",
        "      \n",
        "      #Attaching type of course\n",
        "      typ.append('COURSE')\n",
        "      \n",
        "      #attaching University /name\n",
        "      univ = soup.find('h4', class_ = 'headline-4-text bold rc-Partner__title').get_text()\n",
        "      university_name.append(univ)\n",
        "\n",
        "      #attaching University photo\n",
        "      u_logo=soup.find('div',class_='rc-Partner')\n",
        "      l=u_logo.find('img').get('src')\n",
        "      university_logo.append(l)\n",
        "      #Attaching course level(Beginner/Intermediate/ Advanced) and  time required to complete\n",
        "      \n",
        "      #fet=soup.find_all('div',class_='_y1d9czk m-b-2 p-t-1s')[-1]\n",
        "\n",
        "\n",
        "      #for i in range(0,2):\n",
        "\n",
        "        #if i==0:\n",
        "          #lev=fet[i].get_text()\n",
        "          #level.append(lev)\n",
        "        #else:\n",
        "          #vtim=fet[i].get_text()\n",
        "          #time_required.append(vtim)\n",
        "\n",
        "      \n",
        "      \n",
        "      \n",
        "      #Attaching Course Languages and course subtitles\n",
        "      lang=soup.find_all(\"div\",class_=\"_y1d9czk m-b-2 p-t-1s\")[-1]\n",
        "      lgg= lang.find(\"div\",class_=\"_16ni8zai m-b-0\").get_text()\n",
        "      subtitless=lang.find(\"div\",class_=\"content-inner\").get_text()\n",
        "      course_language.append(lgg)\n",
        "      course_subtitles.append(subtitless)\n",
        "\n",
        "      #Attachng course skills\n",
        "      skills= [x.get_text() for x in soup.find_all('span', class_ = '_rsc0bd m-r-1s m-b-1s')]\n",
        "      course_skills.append(skills)\n",
        "      skills=[]\n",
        "\n",
        "      #attaching Course Category and sub-category\n",
        "      subj = soup.find_all('a',class_ = '_172v19u6 color-white font-weight-bold')\n",
        "      category.append(subj[1].get_text())\n",
        "      sub_category.append(subj[2].get_text())\n",
        "    else:\n",
        "      #Attaching Course Link\n",
        "      course_link.append(urlC)\n",
        "      #Attaching course Name/Title\n",
        "      cnn=soup.find('h1',class_=\"_125g251l _gkjc69\").get_text()\n",
        "      course_name.append(cnn)\n",
        "      #Attaching type of course\n",
        "      typ.append('GUIDED PROJECT')\n",
        "      \n",
        "      #attaching University /name\n",
        "      university_name.append('Coursera Project Network')\n",
        "\n",
        "      #attaching University photo\n",
        "      u_logo=soup.find('div',class_='_1tu07i3a')\n",
        "      l=u_logo.find('img').get('src')\n",
        "      university_logo.append(l)\n",
        "      #Attaching course level(Beginner/Intermediate/ Advanced) and  time required to complete\n",
        "      lang=soup.find_all(\"div\",class_=\"_8m7gipb _1f096on\")[1]\n",
        "      lgg= lang.find(\"span\").get_text()\n",
        "      \n",
        "      level.append(lgg)\n",
        "      \n",
        "      #time required to complete the course\n",
        "      vtim=soup.find('span',class_='_1rcyblj')\n",
        "      time_required.append(vtim)\n",
        "      #Attaching Course Languages and course subtitles\n",
        "      lang=soup.find_all(\"span\",class_=\"_1rcyblj\")[-2].get_text()\n",
        "      course_language.append(lang)\n",
        "      course_subtitles.append(lang)\n",
        "\n",
        "\n",
        "      #Attachng course skills\n",
        "      skills= [x.get_text() for x in soup.find_all('span', class_ = '_1q9sh65')]\n",
        "      course_skills.append(skills)\n",
        "      skills=[]\n",
        "\n",
        "      #attaching Course Category and sub-category\n",
        "      subj = soup.find_all('a',class_ = '_k8ap7s6')\n",
        "      category.append(subj[1].get_text())\n",
        "      sub_category.append(subj[2].get_text())\n",
        "      \n",
        "stop = time.time()\n",
        "print(f\"Training time: {stop - start}s\")"
      ],
      "execution_count": null,
      "outputs": [
        {
          "output_type": "error",
          "ename": "IndexError",
          "evalue": "ignored",
          "traceback": [
            "\u001b[0;31m---------------------------------------------------------------------------\u001b[0m",
            "\u001b[0;31mIndexError\u001b[0m                                Traceback (most recent call last)",
            "\u001b[0;32m<ipython-input-139-6ffb6ece310d>\u001b[0m in \u001b[0;36m<module>\u001b[0;34m()\u001b[0m\n\u001b[1;32m     82\u001b[0m       \u001b[0;31m#attaching Course Category and sub-category\u001b[0m\u001b[0;34m\u001b[0m\u001b[0;34m\u001b[0m\u001b[0;34m\u001b[0m\u001b[0m\n\u001b[1;32m     83\u001b[0m       \u001b[0msubj\u001b[0m \u001b[0;34m=\u001b[0m \u001b[0msoup\u001b[0m\u001b[0;34m.\u001b[0m\u001b[0mfind_all\u001b[0m\u001b[0;34m(\u001b[0m\u001b[0;34m'a'\u001b[0m\u001b[0;34m,\u001b[0m\u001b[0mclass_\u001b[0m \u001b[0;34m=\u001b[0m \u001b[0;34m'_172v19u6'\u001b[0m\u001b[0;34m)\u001b[0m\u001b[0;34m\u001b[0m\u001b[0;34m\u001b[0m\u001b[0m\n\u001b[0;32m---> 84\u001b[0;31m       \u001b[0mcategory\u001b[0m\u001b[0;34m.\u001b[0m\u001b[0mappend\u001b[0m\u001b[0;34m(\u001b[0m\u001b[0msubj\u001b[0m\u001b[0;34m[\u001b[0m\u001b[0;36m1\u001b[0m\u001b[0;34m]\u001b[0m\u001b[0;34m.\u001b[0m\u001b[0mget_text\u001b[0m\u001b[0;34m(\u001b[0m\u001b[0;34m)\u001b[0m\u001b[0;34m)\u001b[0m\u001b[0;34m\u001b[0m\u001b[0;34m\u001b[0m\u001b[0m\n\u001b[0m\u001b[1;32m     85\u001b[0m       \u001b[0msub_category\u001b[0m\u001b[0;34m.\u001b[0m\u001b[0mappend\u001b[0m\u001b[0;34m(\u001b[0m\u001b[0msubj\u001b[0m\u001b[0;34m[\u001b[0m\u001b[0;36m2\u001b[0m\u001b[0;34m]\u001b[0m\u001b[0;34m.\u001b[0m\u001b[0mget_text\u001b[0m\u001b[0;34m(\u001b[0m\u001b[0;34m)\u001b[0m\u001b[0;34m)\u001b[0m\u001b[0;34m\u001b[0m\u001b[0;34m\u001b[0m\u001b[0m\n\u001b[1;32m     86\u001b[0m     \u001b[0;32melse\u001b[0m\u001b[0;34m:\u001b[0m\u001b[0;34m\u001b[0m\u001b[0;34m\u001b[0m\u001b[0m\n",
            "\u001b[0;31mIndexError\u001b[0m: list index out of range"
          ]
        }
      ]
    },
    {
      "cell_type": "code",
      "metadata": {
        "id": "d2YdFxnww9tG",
        "outputId": "39be6528-c230-4833-be83-e573e881058d",
        "colab": {
          "base_uri": "https://localhost:8080/"
        }
      },
      "source": [
        "len(course_link)"
      ],
      "execution_count": null,
      "outputs": [
        {
          "output_type": "execute_result",
          "data": {
            "text/plain": [
              "1216"
            ]
          },
          "metadata": {
            "tags": []
          },
          "execution_count": 140
        }
      ]
    },
    {
      "cell_type": "code",
      "metadata": {
        "id": "Pl39OTRf0-rV",
        "outputId": "9afd49ba-0c73-4819-ba2e-0cf1da687889",
        "colab": {
          "base_uri": "https://localhost:8080/"
        }
      },
      "source": [
        "print(course_link)"
      ],
      "execution_count": null,
      "outputs": [
        {
          "output_type": "stream",
          "text": [
            "['https://www.coursera.org/learn/makingprogress', 'https://www.coursera.org/learn/writing-for-business-ar', 'https://www.coursera.org/learn/ictus-agudo-escala-race', 'https://www.coursera.org/learn/brand-and-content-marketing', 'https://www.coursera.org/learn/cluster-analysis-rcmdr', 'https://www.coursera.org/learn/comercio-inmigracion-tipos-de-cambio', 'https://www.coursera.org/learn/create-a-budget-with-google-sheets', 'https://www.coursera.org/learn/enhance-organizational-communications-with-slack', 'https://www.coursera.org/learn/fpga-intro', 'https://www.coursera.org/learn/chinese-character-writing-2', 'https://www.coursera.org/learn/healthcare-payment-models', 'https://www.coursera.org/learn/it-security', 'https://www.coursera.org/learn/network-transformation-101', 'https://www.coursera.org/learn/international-labour-law', 'https://www.coursera.org/learn/introduction-g-suite', 'https://www.coursera.org/learn/javascript-while-loop', 'https://www.coursera.org/learn/know-thyself-the-examined-life', 'https://www.coursera.org/learn/managing-g-suite', 'https://www.coursera.org/learn/mandarin-chinese-intermediate-learners-1', 'https://www.coursera.org/learn/data-lakes-data-warehouses-gcp', 'https://www.coursera.org/learn/predictive-analytics-business-h2o-r', 'https://www.coursera.org/learn/acute-stroke-race-scale', 'https://www.coursera.org/learn/ocr-text-detection-tensorflow-opencv-tesseract', 'https://www.coursera.org/learn/strategically-build-and-engage-your-network-on-linkedin', 'https://www.coursera.org/learn/supervised-learning-classification', 'https://www.coursera.org/learn/system-administration-it-infrastructure-services', 'https://www.coursera.org/learn/ibm-unsupervised-learning', 'https://www.coursera.org/learn/use-canva-to-create-desktop-and-mobile-friendly-webpages', 'https://www.coursera.org/learn/biznes-na-svoi-mosigra', 'https://www.coursera.org/learn/zakon-startapa-tekhnologicheskogo-biznesa', 'https://www.coursera.org/learn/int-lab-law-ru', 'https://www.coursera.org/learn/russkiy-kak-inostrannyy-b1-2', 'https://www.coursera.org/learn/google-classroom-for-students-arabic', 'https://www.coursera.org/learn/lung-cancer', 'https://www.coursera.org/learn/nonstatusquo-attitudes-netlogo', 'https://www.coursera.org/learn/presentation-skills-ar', 'https://www.coursera.org/learn/net-ruanjian-kaifa-biye', 'https://www.coursera.org/learn/calculo-1', 'https://www.coursera.org/learn/how-computers-work-mooc-copy', 'https://www.coursera.org/learn/calculo-2', 'https://www.coursera.org/learn/20cnwm', 'https://www.coursera.org/learn/3-axis-machining-autodesk-fusion-360', 'https://www.coursera.org/learn/calculo-3', 'https://www.coursera.org/learn/3d-art-and-audio-pipeline', 'https://www.coursera.org/learn/3d-cad-application', 'https://www.coursera.org/learn/3d-cad-fundamental', 'https://www.coursera.org/learn/data-visualization-science-communication', 'https://www.coursera.org/learn/3d-graphics-android-sensors-vr', 'https://www.coursera.org/learn/3d-interaction-design-virtual-reality', 'https://www.coursera.org/learn/3d-interactions-and-navigation', 'https://www.coursera.org/learn/3d-model-creation-fusion-360', 'https://www.coursera.org/learn/3d-models-virtual-reality', 'https://www.coursera.org/learn/3d-printing-applications', 'https://www.coursera.org/learn/3d-printing-capstone', 'https://www.coursera.org/learn/3d-print-hardware', 'https://www.coursera.org/learn/3d-printing-software', 'https://www.coursera.org/learn/3d-sars-cov-19-protein-visualization-with-biopython', 'https://www.coursera.org/learn/3d-printing', 'https://www.coursera.org/learn/calculo-4', 'https://www.coursera.org/learn/human-spaceflight', 'https://www.coursera.org/learn/landscape-restoration-sustainable-development', 'https://www.coursera.org/learn/circular-economy-metals', 'https://www.coursera.org/learn/complete-reinforcement-learning-system', 'https://www.coursera.org/learn/crash-course-in-causality', 'https://www.coursera.org/learn/data-science-course', 'https://www.coursera.org/learn/genome-analysis-z-curve', 'https://www.coursera.org/learn/guide-to-healthcare-innovation-principles-and-practice', 'https://www.coursera.org/learn/western-christianity-200-1650', 'https://www.coursera.org/learn/happiness', 'https://www.coursera.org/learn/scientific-approach-innovation-management', 'https://www.coursera.org/learn/product-marketing-using-gsuite', 'https://www.coursera.org/learn/womens-spirituality', 'https://www.coursera.org/learn/videogames', 'https://www.coursera.org/learn/grand-paris-metropole', 'https://www.coursera.org/learn/archeology', 'https://www.coursera.org/learn/fia-gestao-clubes-federacoes-esportivas', 'https://www.coursera.org/learn/a-tanulas-tanulasa', 'https://www.coursera.org/learn/tecnologia-producao-musical', 'https://www.coursera.org/learn/adhd-treatment', 'https://www.coursera.org/learn/ai-deep-learning-capstone', 'https://www.coursera.org/learn/ai-for-everyone', 'https://www.coursera.org/learn/ai-for-medical-treatment', 'https://www.coursera.org/learn/ibm-ai-workflow-ai-production', 'https://www.coursera.org/learn/ibm-ai-workflow-business-priorities-data-ingestion', 'https://www.coursera.org/learn/ibm-ai-workflow-data-analysis-hypothesis-testing', 'https://www.coursera.org/learn/ibm-ai-workflow-machine-learning-model-deployment', 'https://www.coursera.org/learn/ibm-ai-workflow-feature-engineering-bias-detection', 'https://www.coursera.org/learn/ibm-ai-workflow-machine-learning-vr-nlp', 'https://www.coursera.org/learn/ai-for-medical-diagnosis', 'https://www.coursera.org/learn/ai-for-medical-prognosis', 'https://www.coursera.org/learn/ai-in-healthcare-capstone', 'https://www.coursera.org/learn/aids-fear-hope', 'https://www.coursera.org/learn/introduction-tensorflow-ja', 'https://www.coursera.org/learn/api-design-apigee-gcp', 'https://www.coursera.org/learn/api-development-apigee-gcp', 'https://www.coursera.org/learn/api-security-apigee-gcp', 'https://www.coursera.org/learn/ar-technologies-video-streaming', 'https://www.coursera.org/learn/activism-social-movements', 'https://www.coursera.org/learn/activismo-movimientos-sociales', 'https://www.coursera.org/learn/arte-publico-pedagogia', 'https://www.coursera.org/learn/public-art-pedagogy', 'https://www.coursera.org/learn/aws-computer-vision-gluoncv', 'https://www.coursera.org/learn/python-aws-elastic-beanstalk-web-application', 'https://www.coursera.org/learn/aws-fundamentals-addressing-security-risk', 'https://www.coursera.org/learn/aws-fundamentals-building-serverless-applications', 'https://www.coursera.org/learn/aws-fundamentals-going-cloud-native', 'https://www.coursera.org/learn/aws-fundamentals-cloud-migration', 'https://www.coursera.org/learn/aws-iot-developing-and-deploying-an-internet-of-things', 'https://www.coursera.org/learn/aws-publish-nodejs-website-from-scratch', 'https://www.coursera.org/learn/aboriginal-education', 'https://www.coursera.org/learn/abstraction-problem-decomposition-functions', 'https://www.coursera.org/learn/academic-discussion-english', 'https://www.coursera.org/learn/academicinfoseek', 'https://www.coursera.org/learn/note-taking', 'https://www.coursera.org/learn/academic-literacy', 'https://www.coursera.org/learn/academic-skills-project', 'https://www.coursera.org/learn/access-csv-android-studio-project', 'https://www.coursera.org/learn/access-control-sscp', 'https://www.coursera.org/learn/accessibility-scenic-arts', 'https://www.coursera.org/learn/accessible-landing-page-xd', 'https://www.coursera.org/learn/account-management', 'https://www.coursera.org/learn/asset-measurement-disclosure', 'https://www.coursera.org/learn/accounting-information-system', 'https://www.coursera.org/learn/accounting-analysis-2-equity', 'https://www.coursera.org/learn/accounting-analysis-2-liabilities', 'https://www.coursera.org/learn/accounting-analytics', 'https://www.coursera.org/learn/accounting-data-analytics-python', 'https://www.coursera.org/learn/accounting-finance', 'https://www.coursera.org/learn/business-accounting', 'https://www.coursera.org/learn/business-assessment', 'https://www.coursera.org/learn/accounting', 'https://www.coursera.org/learn/accounting-business-society', 'https://www.coursera.org/learn/financial-accounting', 'https://www.coursera.org/learn/gcp-advanced-insights-bigquery', 'https://www.coursera.org/learn/gcp-advanced-insights-bigquery-jp', 'https://www.coursera.org/learn/achieving-your-optimal-performance', 'https://www.coursera.org/learn/act-on-climate', 'https://www.coursera.org/learn/startup-entrepreneurship-capstone', 'https://www.coursera.org/learn/actualizacion-manejo-diabetes-tipo-2', 'https://www.coursera.org/learn/actua-dolor-cronico', 'https://www.coursera.org/learn/acuerdos-globales', 'https://www.coursera.org/learn/icahn-school-of-medicine-at-mount-sinai-acute-and-chronic-rhinosinusitis', 'https://www.coursera.org/learn/leadership-adapt-your-style', 'https://www.coursera.org/learn/addiction-treatment', 'https://www.coursera.org/learn/hadron-collider-machine-learning', 'https://www.coursera.org/learn/adjective-clauses', 'https://www.coursera.org/learn/administracion-estrategica', 'https://www.coursera.org/learn/administracion-de-proyectos-capstone', 'https://www.coursera.org/learn/administracion-de-sistema-y-servicios-de-infraestructura', 'https://www.coursera.org/learn/admonfinanciera', 'https://www.coursera.org/learn/resultados', 'https://www.coursera.org/learn/administracao-financeira', 'https://www.coursera.org/learn/administracao-de-sistemas-servicos-infraestrutura-ti', 'https://www.coursera.org/learn/advanced-algorithms-and-complexity', 'https://www.coursera.org/learn/aada-capstone', 'https://www.coursera.org/learn/data-analytics-business-capstone', 'https://www.coursera.org/learn/uva-darden-advanced-business-strategy', 'https://www.coursera.org/learn/advanced-chemistry', 'https://www.coursera.org/learn/advanced-competitive-strategy', 'https://www.coursera.org/learn/seo-tactics', 'https://www.coursera.org/learn/advanced-data-science-capstone', 'https://www.coursera.org/learn/advanced-data-structures', 'https://www.coursera.org/learn/jhu-advanced-data-visualization-r', 'https://www.coursera.org/learn/advanced-deployment-scenarios-tensorflow', 'https://www.coursera.org/learn/motion-and-kinetics', 'https://www.coursera.org/learn/advanced-features-relational-database-table-sqlitestudio', 'https://www.coursera.org/learn/advanced-financial-reporting', 'https://www.coursera.org/learn/advanced-functional-ceramics', 'https://www.coursera.org/learn/advanced-game-development-using-pygame', 'https://www.coursera.org/learn/advanced-google-classroom', 'https://www.coursera.org/learn/teaching-strategies', 'https://www.coursera.org/learn/interview-techniques', 'https://www.coursera.org/learn/linear-models', 'https://www.coursera.org/learn/linear-models-2', 'https://www.coursera.org/learn/advanced-machine-learning-signal-processing', 'https://www.coursera.org/learn/advanced-manufacturing-enterprise', 'https://www.coursera.org/learn/advanced-manufacturing-process-analysis', 'https://www.coursera.org/learn/advanced-modeling', 'https://www.coursera.org/learn/advanced-neurobiology1', 'https://www.coursera.org/learn/advancedneurobiologyii', 'https://www.coursera.org/learn/advanced-portfolio-construction-python', 'https://www.coursera.org/learn/opioid-mgmt', 'https://www.coursera.org/learn/advanced-r', 'https://www.coursera.org/learn/advanced-recommender-systems', 'https://www.coursera.org/learn/advanced-rdb-sql', 'https://www.coursera.org/learn/advanced-sas-programming-techniques', 'https://www.coursera.org/learn/advanced-sql-retrieval-queries-in-sqlitestudio', 'https://www.coursera.org/learn/seo-strategies', 'https://www.coursera.org/learn/speaking-listening-capstone', 'https://www.coursera.org/learn/responsivedesign', 'https://www.coursera.org/learn/advanced-system-security-topics', 'https://www.coursera.org/learn/advanced-testng-framework-integration-with-selenium', 'https://www.coursera.org/learn/advanced-trading-algorithms', 'https://www.coursera.org/learn/advanced-valuation-and-strategy', 'https://www.coursera.org/learn/advanced-writing', 'https://www.coursera.org/learn/role-of-advertising', 'https://www.coursera.org/learn/advertising-with-facebook', 'https://www.coursera.org/learn/aerial-photography-with-uav', 'https://www.coursera.org/learn/african-cities1', 'https://www.coursera.org/learn/afrique-mondialisation', 'https://www.coursera.org/learn/after-the-arab-spring', 'https://www.coursera.org/learn/age-of-cathedrals', 'https://www.coursera.org/learn/ageofjefferson', 'https://www.coursera.org/learn/uva-darden-agile-analytics', 'https://www.coursera.org/learn/agile-capstone', 'https://www.coursera.org/learn/agile-leadership-introduction-to-change', 'https://www.coursera.org/learn/uva-darden-getting-started-agile', 'https://www.coursera.org/learn/agile-organization', 'https://www.coursera.org/learn/agile-planning-for-software-products', 'https://www.coursera.org/learn/agile-prototype-analysis-miro', 'https://www.coursera.org/learn/developing-agile-tasks-taiga', 'https://www.coursera.org/learn/agile-stories-mapping-taiga', 'https://www.coursera.org/learn/agile-epics-mapping-taiga', 'https://www.coursera.org/learn/agile-prototype-miro', 'https://www.coursera.org/learn/agile-software-development', 'https://www.coursera.org/learn/agile-atlassian-jira', 'https://www.coursera.org/learn/upravleniya-proektami-agile-scrum', 'https://www.coursera.org/learn/agricultura-urbana', 'https://www.coursera.org/learn/agriculture-economics-nature', 'https://www.coursera.org/learn/air-pollution-health-threat', 'https://www.coursera.org/learn/akademiskt-skrivande', 'https://www.coursera.org/learn/alfabetizacao-midiatica', 'https://www.coursera.org/learn/algorithmic-thinking-1', 'https://www.coursera.org/learn/algorithmic-thinking-2', 'https://www.coursera.org/learn/algorithmic-toolbox', 'https://www.coursera.org/learn/dna-sequencing', 'https://www.coursera.org/learn/algorithms-on-graphs', 'https://www.coursera.org/learn/algorithms-on-strings', 'https://www.coursera.org/learn/algorithms-data-collection-code', 'https://www.coursera.org/learn/algorithms-part1', 'https://www.coursera.org/learn/algorithms-part2', 'https://www.coursera.org/learn/alimentacion-vuelta-al-mundo', 'https://www.coursera.org/learn/nigro-levante-occidente', 'https://www.coursera.org/learn/valuation', 'https://www.coursera.org/learn/probabilites-1', 'https://www.coursera.org/learn/probabilites-2', 'https://www.coursera.org/learn/dynamodb-nosql-database-driven-apps', 'https://www.coursera.org/learn/america-through-foreign-eyes', 'https://www.coursera.org/learn/written-constitution', 'https://www.coursera.org/learn/contracts-1', 'https://www.coursera.org/learn/contracts-2', 'https://www.coursera.org/learn/deaf-culture', 'https://www.coursera.org/learn/edref', 'https://www.coursera.org/learn/america-latina', 'https://www.coursera.org/learn/accessibility', 'https://www.coursera.org/learn/american-law', 'https://www.coursera.org/learn/neuromarketing', 'https://www.coursera.org/learn/global-health-introduction', 'https://www.coursera.org/learn/interactive-python-1', 'https://www.coursera.org/learn/interactive-python-2', 'https://www.coursera.org/learn/intro-practical-deep-learning', 'https://www.coursera.org/learn/food-system', 'https://www.coursera.org/learn/introductiontoprobability', 'https://www.coursera.org/learn/analizando-politicas-economicas', 'https://www.coursera.org/learn/analisis-sentimientos-azure', 'https://www.coursera.org/learn/analyse-numerique', 'https://www.coursera.org/learn/analysing-complexity', 'https://www.coursera.org/learn/analyse-unstructured-data-mongodb-pyspark', 'https://www.coursera.org/learn/analysis-for-business-systems', 'https://www.coursera.org/learn/analysis-of-algorithms', 'https://www.coursera.org/learn/analysis-business-problem-iese', 'https://www.coursera.org/learn/analysis-of-variance-anova-in-google-sheets', 'https://www.coursera.org/learn/analytic-combinatorics', 'https://www.coursera.org/learn/analytical-solutions-common-healthcare-problems', 'https://www.coursera.org/learn/analyze-data-plotly-python', 'https://www.coursera.org/learn/analyze-data-seaborn-python', 'https://www.coursera.org/learn/analyze-city-data-r-tableau', 'https://www.coursera.org/learn/analyze-data-pivot-tables-crosstabs-google-sheets', 'https://www.coursera.org/learn/analyze-nps-survey-data-in-google-sheets', 'https://www.coursera.org/learn/analyze-stock-data-using-r-quantmod', 'https://www.coursera.org/learn/analyze-survey-data-pca', 'https://www.coursera.org/learn/analyze-text-data-yellowbrick', 'https://www.coursera.org/learn/cloudera-big-data-analysis-sql-queries', 'https://www.coursera.org/learn/analyze-company-performance-ratios', 'https://www.coursera.org/learn/marco-environmental-factors-creately', 'https://www.coursera.org/learn/analyzing-market-attractiveness-creately', 'https://www.coursera.org/learn/product-strategy', 'https://www.coursera.org/learn/analyzing-video-opencv-numpy', 'https://www.coursera.org/learn/analyze', 'https://www.coursera.org/learn/abdomen-anatomy', 'https://www.coursera.org/learn/trunk-anatomy', 'https://www.coursera.org/learn/anatomy403-2x', 'https://www.coursera.org/learn/anatomy403-4x', 'https://www.coursera.org/learn/anatomy403-3x', 'https://www.coursera.org/learn/anatomy403-1x', 'https://www.coursera.org/learn/aristotle', 'https://www.coursera.org/learn/plato', 'https://www.coursera.org/learn/androidapps', 'https://www.coursera.org/learn/androidapps-2', 'https://www.coursera.org/learn/android-graphics-opengl-es', 'https://www.coursera.org/learn/animal-welfare', 'https://www.coursera.org/learn/animals-institutions', 'https://www.coursera.org/learn/animals-self-society', 'https://www.coursera.org/learn/animation-for-game-development-using-pygame', 'https://www.coursera.org/learn/animer-seance-collaborative', 'https://www.coursera.org/learn/annual-campaigns', 'https://www.coursera.org/learn/anomaly-detection-time-series-keras', 'https://www.coursera.org/learn/antiracism-1', 'https://www.coursera.org/learn/antibiotic-stewardship', 'https://www.coursera.org/learn/anticipate', 'https://www.coursera.org/learn/anticonconcepcion-hormonal', 'https://www.coursera.org/learn/anticorrupcion-introduccion', 'https://www.coursera.org/learn/antimicrobial-resistance', 'https://www.coursera.org/learn/antisemitism', 'https://www.coursera.org/learn/antisemitismo', 'https://www.coursera.org/learn/analise-oportunidade-blockchain', 'https://www.coursera.org/learn/analisis-de-datos-con-python', 'https://www.coursera.org/learn/analisis-documentos-servicios-cognitivos-azure', 'https://www.coursera.org/learn/analisis-situaciones-negocio', 'https://www.coursera.org/learn/analisis-textos-archivos-servicios-cognitivos-azure', 'https://www.coursera.org/learn/apache-spark-sql-for-data-analysts', 'https://www.coursera.org/learn/aplicaciones-musicales-arduino', 'https://www.coursera.org/learn/app-deployment-debugging-performance', 'https://www.coursera.org/learn/ios-app-design-development', 'https://www.coursera.org/learn/app-deployment-debugging-performance-jp', 'https://www.coursera.org/learn/application-systems-programming', 'https://www.coursera.org/learn/wharton-ai-application-insurtech-real-estate-technology', 'https://www.coursera.org/learn/health-equity-research-methods', 'https://www.coursera.org/learn/engineering-mechanics-statics-2', 'https://www.coursera.org/learn/everyday-leadership-application', 'https://www.coursera.org/learn/ai', 'https://www.coursera.org/learn/analytics-data-decisions', 'https://www.coursera.org/learn/applied-data-science-capstone', 'https://www.coursera.org/learn/applied-data-science-for-data-analysts', 'https://www.coursera.org/learn/python-machine-learning', 'https://www.coursera.org/learn/python-plotting', 'https://www.coursera.org/learn/uol-public-history', 'https://www.coursera.org/learn/python-social-network-analysis', 'https://www.coursera.org/learn/python-text-mining', 'https://www.coursera.org/learn/apply-generative-adversarial-networks-gans', 'https://www.coursera.org/learn/applying-data-analytics-business-in-finance', 'https://www.coursera.org/learn/applying-data-analytics-business-in-marketing', 'https://www.coursera.org/learn/applying-data-structures', 'https://www.coursera.org/learn/capital-budgeting', 'https://www.coursera.org/learn/data-insights-gcp-apply-ml', 'https://www.coursera.org/learn/data-insights-gcp-apply-ml-jp', 'https://www.coursera.org/learn/study-in-usa', 'https://www.coursera.org/learn/apprendre-comment-apprendre', 'https://www.coursera.org/learn/intelligence-artificielle-pour-gamers', 'https://www.coursera.org/learn/melodic-forms-simple-harmony', 'https://www.coursera.org/learn/approximation-algorithms-part-1', 'https://www.coursera.org/learn/approximation-algorithms-part-2', 'https://www.coursera.org/learn/programae', 'https://www.coursera.org/learn/aprender', 'https://www.coursera.org/learn/aprendo', 'https://www.coursera.org/learn/aprendiendo-python-con-bases-de-datos', 'https://www.coursera.org/learn/aprendiendo-python-con-circuitos-digitales', 'https://www.coursera.org/learn/aprendiendo-python-con-estadistica-descriptiva', 'https://www.coursera.org/learn/aprendiendo-python-con-textos-numeros-ecuaciones', 'https://www.coursera.org/learn/aprendiendo-python-con-algebra-lineal', 'https://www.coursera.org/learn/solidity-smartcontracts', 'https://www.coursera.org/learn/aprendiendo-a-aprender-ie', 'https://www.coursera.org/learn/aprendiendo-a-aprender', 'https://www.coursera.org/learn/api-nodejs', 'https://www.coursera.org/learn/aprendizaje-automatico-con-python', 'https://www.coursera.org/learn/aprendizaje-matematicas-primaria', 'https://www.coursera.org/learn/aprendizaje-maquinas', 'https://www.coursera.org/learn/archoftitus', 'https://www.coursera.org/learn/archaeoastronomy', 'https://www.coursera.org/learn/iot-architecture', 'https://www.coursera.org/learn/foundations-google-kubernetes-engine-gke', 'https://www.coursera.org/learn/foundations-google-kubernetes-engine-gke-br', 'https://www.coursera.org/learn/foundations-google-kubernetes-engine-gke-es', 'https://www.coursera.org/learn/foundations-google-kubernetes-engine-gke-fr', 'https://www.coursera.org/learn/foundations-google-kubernetes-engine-gke-jp', 'https://www.coursera.org/learn/deploying-secure-kubernetes-containers-in-production', 'https://www.coursera.org/learn/deploying-secure-kubernetes-containers-in-production-br', 'https://www.coursera.org/learn/deploying-secure-kubernetes-containers-in-production-es', 'https://www.coursera.org/learn/deploying-secure-kubernetes-containers-in-production-fr', 'https://www.coursera.org/learn/deploying-secure-kubernetes-containers-in-production-jp', 'https://www.coursera.org/learn/deploying-workloads-google-kubernetes-engine-gke', 'https://www.coursera.org/learn/deploying-workloads-google-kubernetes-engine-gke-es', 'https://www.coursera.org/learn/deploying-workloads-google-kubernetes-engine-gke-fr', 'https://www.coursera.org/learn/deploying-workloads-google-kubernetes-engine-gke-jp', 'https://www.coursera.org/learn/arctic-change-governance-economics-culture', 'https://www.coursera.org/learn/arduino-aplicaciones', 'https://www.coursera.org/learn/aromatherapy-clinical-use-essential-oils', 'https://www.coursera.org/learn/arranging-for-songwriters', 'https://www.coursera.org/learn/art-activity', 'https://www.coursera.org/learn/ideas', 'https://www.coursera.org/learn/artinquiry', 'https://www.coursera.org/learn/art-science-ml', 'https://www.coursera.org/learn/art-science-ml-br', 'https://www.coursera.org/learn/art-science-ml-es', 'https://www.coursera.org/learn/art-science-ml-fr', 'https://www.coursera.org/learn/art-science-ml-jp', 'https://www.coursera.org/learn/experiments-with-sound', 'https://www.coursera.org/learn/videojuegos-animation', 'https://www.coursera.org/learn/artificial-intelligence-education-for-teachers', 'https://www.coursera.org/learn/ai-algorithm-limitations', 'https://www.coursera.org/learn/ai-data-bias', 'https://www.coursera.org/learn/ai-ethics-analysis', 'https://www.coursera.org/learn/ai-privacy-and-convenience', 'https://www.coursera.org/learn/uva-darden-artificial-intelligence-marketing', 'https://www.coursera.org/learn/arts-culture-strategy', 'https://www.coursera.org/learn/arts-heritage', 'https://www.coursera.org/learn/sustainability-fuels-ash-chemistry-deposits-corrosion-additives', 'https://www.coursera.org/learn/asian-environmental-humanities', 'https://www.coursera.org/learn/asistencia-tecnica', 'https://www.coursera.org/learn/uva-darden-project-management-es', 'https://www.coursera.org/learn/fundamentos-de-gestion', 'https://www.coursera.org/learn/ell-assessment', 'https://www.coursera.org/learn/assessmentforlearning', 'https://www.coursera.org/learn/assessment-higher-education', 'https://www.coursera.org/learn/asset-creation-management', 'https://www.coursera.org/learn/astronomy-technology', 'https://www.coursera.org/learn/astrobiology', 'https://www.coursera.org/learn/astrobiology-exploring-other-worlds', 'https://www.coursera.org/learn/astro', 'https://www.coursera.org/learn/asymmetric-crypto', 'https://www.coursera.org/learn/archaeology-city-levant-west', 'https://www.coursera.org/learn/enfermedades-no-transmisibles', 'https://www.coursera.org/learn/innovacioneducativa', 'https://www.coursera.org/learn/audio-signal-processing', 'https://www.coursera.org/learn/audio-digital-pure-data', 'https://www.coursera.org/learn/auditing-part1-conceptual-foundations', 'https://www.coursera.org/learn/auditing-part2-the-practice', 'https://www.coursera.org/learn/autism-spectrum-disorder', 'https://www.coursera.org/learn/automl-autokeras-classification', 'https://www.coursera.org/learn/automl-autosklearn-googlecolab', 'https://www.coursera.org/learn/automl-pycaret-tpot', 'https://www.coursera.org/learn/automl-computer-vision-microsoft-custom-vision', 'https://www.coursera.org/learn/autodesk-autocad-design-drafting', 'https://www.coursera.org/learn/autodesk-civil-3d-infrastructure-design', 'https://www.coursera.org/learn/autodesk-inventor-mechanical-design', 'https://www.coursera.org/learn/autodesk-revit-architectural-design', 'https://www.coursera.org/learn/autodesk-revit-for-structural-design-exam-prep', 'https://www.coursera.org/learn/fusion-360-integrated-cad-cam-cae', 'https://www.coursera.org/learn/autoliderazgo-gestion-emociones', 'https://www.coursera.org/learn/automate-e-commerce-web-application-using-selenium-java', 'https://www.coursera.org/learn/automated-machine-learning-powerbi', 'https://www.coursera.org/learn/automated-machine-learning-powerbi-clasificacion', 'https://www.coursera.org/learn/automated-reasoning-symbolic-model-checking', 'https://www.coursera.org/learn/automated-reasoning-sat', 'https://www.coursera.org/learn/automatic-machine-learning-h2o-automl-python', 'https://www.coursera.org/learn/automating-real-world-tasks-python', 'https://www.coursera.org/learn/automating-team-commmunication-with-google-sheets-and-apps-script', 'https://www.coursera.org/learn/auto-scripts-bash', 'https://www.coursera.org/learn/autoridad', 'https://www.coursera.org/learn/averagedswitchmodelingandsimulation', 'https://www.coursera.org/learn/tensorflow-regularization-avoid-overfitting', 'https://www.coursera.org/learn/azure-infrastructure', 'https://www.coursera.org/learn/bim-application', 'https://www.coursera.org/learn/bim-fundamentals', 'https://www.coursera.org/learn/bim-from-sketch-to-digital-twin', 'https://www.coursera.org/learn/bmc-and-start-up-funding-for-early-stage-start-ups', 'https://www.coursera.org/learn/bacterial-infections', 'https://www.coursera.org/learn/informatics', 'https://www.coursera.org/learn/cambios-temperatura', 'https://www.coursera.org/learn/bankruptcy-law', 'https://www.coursera.org/learn/sql-para-ciencia-de-datos', 'https://www.coursera.org/learn/russian-law-of-obligations', 'https://www.coursera.org/learn/russian-law-of-obligations-2', 'https://www.coursera.org/learn/basic-artificial-neural-networks-in-python', 'https://www.coursera.org/learn/basic-cryptography-and-crypto-api', 'https://www.coursera.org/learn/descriptive-statistics-statistical-distributions-business-application', 'https://www.coursera.org/learn/basic-data-processing-visualization-python', 'https://www.coursera.org/learn/basic-elements-design', 'https://www.coursera.org/learn/basic-game-development-with-levels-using-scratch', 'https://www.coursera.org/learn/tensorflow-beginner-basic-image-classification', 'https://www.coursera.org/learn/basic-modeling', 'https://www.coursera.org/learn/physics-intro', 'https://www.coursera.org/learn/basic-recommender-systems', 'https://www.coursera.org/learn/basic-sentiment-analysis-tensorflow', 'https://www.coursera.org/learn/basic-skills-in-constructive-communication', 'https://www.coursera.org/learn/basic-statistics', 'https://www.coursera.org/learn/basic-statistics-python-anova', 'https://www.coursera.org/learn/basic-statistics-python-ttest-corr', 'https://www.coursera.org/learn/system-programming', 'https://www.coursera.org/learn/extracellular-vesicles', 'https://www.coursera.org/learn/inclusive-design', 'https://www.coursera.org/learn/onehealth', 'https://www.coursera.org/learn/battery-pack-balancing-power-estimation', 'https://www.coursera.org/learn/battery-state-of-health', 'https://www.coursera.org/learn/bayesian-methods-in-machine-learning', 'https://www.coursera.org/learn/bayesian-optimization-python', 'https://www.coursera.org/learn/bayesian', 'https://www.coursera.org/learn/bayesian-statistics', 'https://www.coursera.org/learn/mixture-models', 'https://www.coursera.org/learn/mcmc-bayesian-statistics', 'https://www.coursera.org/learn/be-your-best-creative-self', 'https://www.coursera.org/learn/be-a-leader', 'https://www.coursera.org/learn/entrepreneurial-culture-digital-age', 'https://www.coursera.org/learn/google-cbrs-cpi-training', 'https://www.coursera.org/learn/become-a-js-pro-7-skills', 'https://www.coursera.org/learn/intercultural-communications', 'https://www.coursera.org/learn/social-entrepreneurship-getting-started', 'https://www.coursera.org/learn/sports-agent', 'https://www.coursera.org/learn/social-innovation', 'https://www.coursera.org/learn/beginning-sql-server', 'https://www.coursera.org/learn/behavior-driven-development-with-selenium-cucumber', 'https://www.coursera.org/learn/duke-behavioral-finance', 'https://www.coursera.org/learn/behavioral-investing', 'https://www.coursera.org/learn/being-researcher', 'https://www.coursera.org/learn/redes-sociales-caracteristicas', 'https://www.coursera.org/learn/ui', 'https://www.coursera.org/learn/business-writing-english', 'https://www.coursera.org/learn/entrepreneurship-development', 'https://www.coursera.org/learn/beyond-the-sustainable-development-goals-addressing-sustainability-and-development', 'https://www.coursera.org/learn/biases-portfolio-selection', 'https://www.coursera.org/learn/bienestar-equidad-derechos-humanos', 'https://www.coursera.org/learn/big-data-project', 'https://www.coursera.org/learn/scala-spark-big-data', 'https://www.coursera.org/learn/big-data-analysis', 'https://www.coursera.org/learn/alibabacloudbigdata', 'https://www.coursera.org/learn/machine-learning-applications-big-data', 'https://www.coursera.org/learn/big-data-emerging-technologies', 'https://www.coursera.org/learn/big-data-integration-processing', 'https://www.coursera.org/learn/big-data-management', 'https://www.coursera.org/learn/bd2k-lincs', 'https://www.coursera.org/learn/big-data-services', 'https://www.coursera.org/learn/big-data-ai-ethics', 'https://www.coursera.org/learn/data-genes-medicine', 'https://www.coursera.org/learn/adquisicion-almacenamiento-de-datos', 'https://www.coursera.org/learn/big-data-proyecto', 'https://www.coursera.org/learn/impacto-datos-masivos', 'https://www.coursera.org/learn/big-data-procesamiento-analisis', 'https://www.coursera.org/learn/big-data-visualizacion-datos', 'https://www.coursera.org/learn/bighistory', 'https://www.coursera.org/learn/big-history', 'https://www.coursera.org/learn/big-data-language-1', 'https://www.coursera.org/learn/big-data-language-2', 'https://www.coursera.org/learn/big-o-time-complexity-in-python-code', 'https://www.coursera.org/learn/energy-metabolism', 'https://www.coursera.org/learn/bioconductor', 'https://www.coursera.org/learn/biohacking-your-brains-health', 'https://www.coursera.org/learn/bioinformatics-methods-1', 'https://www.coursera.org/learn/bioinformatics-methods-2', 'https://www.coursera.org/learn/bioinformatics-project', 'https://www.coursera.org/learn/bioinformatics-pku', 'https://www.coursera.org/learn/biological-diversity', 'https://www.coursera.org/learn/biology-everywhere-foundations', 'https://www.coursera.org/learn/bioinformatics', 'https://www.coursera.org/learn/biomedvis', 'https://www.coursera.org/learn/biosphere-science-future', 'https://www.coursera.org/learn/bitcoin-price-prediction-using-facebook-prophet', 'https://www.coursera.org/learn/cryptocurrency', 'https://www.coursera.org/learn/black-box-white-box-testing', 'https://www.coursera.org/learn/blazor-javascript-interoperability', 'https://www.coursera.org/learn/blended-language-learning-design-practice-for-teachers', 'https://www.coursera.org/learn/blending-learning-personalization', 'https://www.coursera.org/learn/blockchain-basics', 'https://www.coursera.org/learn/blockchain-business-models', 'https://www.coursera.org/learn/blockchain-evolution-and-technology-concepts', 'https://www.coursera.org/learn/blockchain-opportunities-beyond-crypto-assets', 'https://www.coursera.org/learn/blockchain-opportunity-analysis', 'https://www.coursera.org/learn/blockchain-platforms', 'https://www.coursera.org/learn/blockchain-scalability', 'https://www.coursera.org/learn/blockchain-transformations-financial-services', 'https://www.coursera.org/learn/blockchain-business', 'https://www.coursera.org/learn/crypto-finance', 'https://www.coursera.org/learn/blockchain-negocios', 'https://www.coursera.org/learn/blockchain-decision-maker', 'https://www.coursera.org/learn/blockchain-strategic-action-plan', 'https://www.coursera.org/learn/blockchain-crypto-decentralized-finance', 'https://www.coursera.org/learn/blockchain-foundations-and-use-cases', 'https://www.coursera.org/learn/bonds-and-stocks', 'https://www.coursera.org/learn/bonds-fixed-income-mathematics', 'https://www.coursera.org/learn/boost-accuracy-by-weighting-variables-in-google-sheets', 'https://www.coursera.org/learn/sales-enablement-tools-productivity', 'https://www.coursera.org/learn/brand-identity-strategy', 'https://www.coursera.org/learn/brand', 'https://www.coursera.org/learn/brand-marketing-seo-tools-using-wix', 'https://www.coursera.org/learn/brand-new-brand', 'https://www.coursera.org/learn/brand-management', 'https://www.coursera.org/learn/brand-management-in-digital-economy', 'https://www.coursera.org/learn/branding-and-cx', 'https://www.coursera.org/learn/healthcare-and-society', 'https://www.coursera.org/learn/bridging-strategy-design-delivery-gap', 'https://www.coursera.org/learn/brilliant-passionate-you', 'https://www.coursera.org/learn/browser-based-models-tensorflow', 'https://www.coursera.org/learn/science-of-meditation', 'https://www.coursera.org/learn/schedule-projects', 'https://www.coursera.org/learn/budgeting-essentials-development', 'https://www.coursera.org/learn/libre-competencia', 'https://www.coursera.org/learn/build-firebase-webapp-2', 'https://www.coursera.org/learn/build-accessible-and-508-compliant-surveys-in-surveymonkey', 'https://www.coursera.org/learn/build-basic-generative-adversarial-networks-gans', 'https://www.coursera.org/learn/build-better-generative-adversarial-networks-gans', 'https://www.coursera.org/learn/build-django-restful-api', 'https://www.coursera.org/learn/dplyr', 'https://www.coursera.org/learn/introduction-to-dplyr', 'https://www.coursera.org/learn/multilayer-perceptron-model-keras', 'https://www.coursera.org/learn/build-nlp-pipelines-using-scikit-learn', 'https://www.coursera.org/learn/azure-machine-learning-studio-random-forests', 'https://www.coursera.org/learn/android-app', 'https://www.coursera.org/learn/build-first-react-website', 'https://www.coursera.org/learn/build-first-react-website-2', 'https://www.coursera.org/learn/build-app', 'https://www.coursera.org/learn/build-portfolio-website-html-css', 'https://www.coursera.org/learn/eportfolio-english', 'https://www.coursera.org/learn/budget-analyze-variance-google-sheets', 'https://www.coursera.org/learn/build-a-custom-profile-avatar-with-inkscape', 'https://www.coursera.org/learn/data-science-streamlit-python', 'https://www.coursera.org/learn/build-a-database-from-a-relational-model', 'https://www.coursera.org/learn/deep-learning-image-classifier-r', 'https://www.coursera.org/learn/firebase-android-app', 'https://www.coursera.org/learn/firebase-android-app-2', 'https://www.coursera.org/learn/build-a-flywheel-infographic-with-inkscape', 'https://www.coursera.org/learn/build-a-full-website-using-wordpress', 'https://www.coursera.org/learn/build-a-firestore-webapp-1', 'https://www.coursera.org/learn/build-a-google-firebase-webapp', 'https://www.coursera.org/learn/build-game-application-using-cpp', 'https://www.coursera.org/learn/build-game-application-using-java', 'https://www.coursera.org/learn/build-linear-layout-app-android-studio', 'https://www.coursera.org/learn/machine-learning-streamlit-python', 'https://www.coursera.org/learn/build-a-computer', 'https://www.coursera.org/learn/nand2tetris2', 'https://www.coursera.org/learn/build-persistent-storage-app-android-studio', 'https://www.coursera.org/learn/aws-lambda-api-gateway-nodejs', 'https://www.coursera.org/learn/restful-serverless-api-on-aws', 'https://www.coursera.org/learn/build-relative-layout-app-android-studio', 'https://www.coursera.org/learn/build-app-android-studio-java', 'https://www.coursera.org/learn/build-table-layout-app-android-studio', 'https://www.coursera.org/learn/twitter-clone-backend', 'https://www.coursera.org/learn/twitter-clone-frontend', 'https://www.coursera.org/learn/build-a-film-club-web-app-with-google-appengine', 'https://www.coursera.org/learn/build-a-mobile-app-with-google-sheets-on-glide-and-no-coding', 'https://www.coursera.org/learn/build-a-simple-company-expense-tracker-with-typescript', 'https://www.coursera.org/learn/build-an-app-in-android-studio-using-activities', 'https://www.coursera.org/learn/build-an-app-in-android-studio-using-read-write', 'https://www.coursera.org/learn/build-an-app-in-android-studio-using-resources', 'https://www.coursera.org/learn/build-an-app-in-android-studio-using-static-files', 'https://www.coursera.org/learn/build-an-app-in-android-studio-using-ontouch', 'https://www.coursera.org/learn/e-commerce-dashboard-figma', 'https://www.coursera.org/learn/build-local-development-environments-using-docker-containers', 'https://www.coursera.org/learn/build-personal-resilience', 'https://www.coursera.org/learn/django-models-views-forms-templates', 'https://www.coursera.org/learn/building-ai-applications', 'https://www.coursera.org/learn/building-ai-powered-chatbots', 'https://www.coursera.org/learn/arduino', 'https://www.coursera.org/learn/basic-relational-databases-sql', 'https://www.coursera.org/learn/batch-data-pipelines-gcp', 'https://www.coursera.org/learn/batch-data-pipelines-gcp-br', 'https://www.coursera.org/learn/batch-data-pipelines-gcp-fr', 'https://www.coursera.org/learn/batch-data-pipelines-gcp-jp', 'https://www.coursera.org/learn/building-candlestick-charts-google-sheets', 'https://www.coursera.org/learn/building-candlestick-charts-tableau', 'https://www.coursera.org/learn/building-chatbot-with-dialogflow', 'https://www.coursera.org/learn/classroom-flipgrid', 'https://www.coursera.org/learn/cloud-services-java-spring-framework', 'https://www.coursera.org/learn/conversational-experiences-dialogflow', 'https://www.coursera.org/learn/r-data-visualization', 'https://www.coursera.org/learn/database-applications-php', 'https://www.coursera.org/learn/building-deep-learning-models-with-tensorflow', 'https://www.coursera.org/learn/digital-media-with-graphic-design', 'https://www.coursera.org/learn/building-fintech-startups', 'https://www.coursera.org/learn/high-performing-teams', 'https://www.coursera.org/learn/interactive-3d-characters-social-virtual-reality', 'https://www.coursera.org/learn/spark-machine-learning-pipeline-python', 'https://www.coursera.org/learn/building-modern-java-applications-on-aws', 'https://www.coursera.org/learn/building-modern-node-applications-on-aws', 'https://www.coursera.org/learn/building-modern-python-applications-on-aws', 'https://www.coursera.org/learn/r-packages', 'https://www.coursera.org/learn/building-recommendation-system-using-mxnet-aws-sagemaker', 'https://www.coursera.org/learn/streaming-analytics-systems-gcp', 'https://www.coursera.org/learn/streaming-analytics-systems-gcp-br', 'https://www.coursera.org/learn/streaming-analytics-systems-gcp-es', 'https://www.coursera.org/learn/streaming-analytics-systems-gcp-fr', 'https://www.coursera.org/learn/streaming-analytics-systems-gcp-jp', 'https://www.coursera.org/learn/building-resilient-streaming-systems-gcp-br', 'https://www.coursera.org/learn/google-cloud-java-spring', 'https://www.coursera.org/learn/building-similarity-based-recommendation-system', 'https://www.coursera.org/learn/building-smart-business-assistants-ibm-watson', 'https://www.coursera.org/learn/building-stock-returns-heatmap-tableau', 'https://www.coursera.org/learn/student-math-iknowit', 'https://www.coursera.org/learn/building-test-automation-framework-using-selenium-csharph-nunit', 'https://www.coursera.org/learn/building-test-automation-framework-using-selenium-and-testng', 'https://www.coursera.org/learn/django-build-web-apps', 'https://www.coursera.org/learn/web-applications-php', 'https://www.coursera.org/learn/navigate-music-industry-independent-artist', 'https://www.coursera.org/learn/leadership-skills', 'https://www.coursera.org/learn/facebook-marketing', 'https://www.coursera.org/learn/build-data-science-team', 'https://www.coursera.org/learn/dynamic-web-app-php-mysql', 'https://www.coursera.org/learn/building-a-hiring-plan-with-people-analysis', 'https://www.coursera.org/learn/building-a-java-application-banking', 'https://www.coursera.org/learn/toolkit-sales-process', 'https://www.coursera.org/learn/ecosystem-insight-maker', 'https://www.coursera.org/learn/build-analyze-linear-regression-model-r', 'https://www.coursera.org/learn/building-on-the-sir-model', 'https://www.coursera.org/learn/corporate-entrepreneurs-business-model', 'https://www.coursera.org/learn/burgos-deciphering-secrets-medieval-spain', 'https://www.coursera.org/learn/business-analysis-process-management', 'https://www.coursera.org/learn/wharton-capstone-analytics', 'https://www.coursera.org/learn/business-analytics-executive-overview', 'https://www.coursera.org/learn/business-analytics', 'https://www.coursera.org/learn/business-analytics-decision-making', 'https://www.coursera.org/learn/artificialintelligence-in-healthcare', 'https://www.coursera.org/learn/hypothesis-testing-confidence-intervals', 'https://www.coursera.org/learn/business-case-analysis', 'https://www.coursera.org/learn/intermediate-business-chinese-1', 'https://www.coursera.org/learn/cross-cultural-communication-business', 'https://www.coursera.org/learn/business-english', 'https://www.coursera.org/learn/business-english-capstone', 'https://www.coursera.org/learn/english-for-business-project', 'https://www.coursera.org/learn/finance-economics-english', 'https://www.coursera.org/learn/business-english-presentations', 'https://www.coursera.org/learn/management-leadership-english', 'https://www.coursera.org/learn/marketing-sales-english', 'https://www.coursera.org/learn/business-english-meetings', 'https://www.coursera.org/learn/business-english-intro', 'https://www.coursera.org/learn/business-english-negotiating', 'https://www.coursera.org/learn/uva-darden-business-growth-strategy', 'https://www.coursera.org/learn/business-implications-ai-nano-course', 'https://www.coursera.org/learn/business-implications-ai', 'https://www.coursera.org/learn/business-intelligence-tools', 'https://www.coursera.org/learn/analytics-business-metrics', 'https://www.coursera.org/learn/business-model-canva', 'https://www.coursera.org/learn/business-model-canvas', 'https://www.coursera.org/learn/business-model', 'https://www.coursera.org/learn/bmi-sustainable-landscape-restoration', 'https://www.coursera.org/learn/business-models-innovative-care', 'https://www.coursera.org/learn/business-operations-support-in-google-sheets', 'https://www.coursera.org/learn/business-opportunities-and-risks-in-a-globalized-economy', 'https://www.coursera.org/learn/business-process-management-in-healthcare-organizations', 'https://www.coursera.org/learn/business-russian-communication-1', 'https://www.coursera.org/learn/business-russian-communication-2', 'https://www.coursera.org/learn/business-russian-communication-3', 'https://www.coursera.org/learn/business-statistics-analysis-capstone', 'https://www.coursera.org/learn/business-strategies', 'https://www.coursera.org/learn/wharton-social-impact', 'https://www.coursera.org/learn/strategy-business', 'https://www.coursera.org/learn/uva-darden-business-strategy-capstone', 'https://www.coursera.org/learn/canvas-analysis-miro', 'https://www.coursera.org/learn/business-transformation-google-cloud', 'https://www.coursera.org/learn/business-transformation-google-cloud-de', 'https://www.coursera.org/learn/business-transformation-google-cloud-br', 'https://www.coursera.org/learn/business-transformation-google-cloud-es', 'https://www.coursera.org/learn/business-transformation-google-cloud-fr', 'https://www.coursera.org/learn/business-transformation-google-cloud-jp', 'https://www.coursera.org/learn/writing-for-business', 'https://www.coursera.org/learn/business-intelligence-data-analytics', 'https://www.coursera.org/learn/business-intelligence-data-warehousing', 'https://www.coursera.org/learn/gamedev-business', 'https://www.coursera.org/learn/c-for-everyone', 'https://www.coursera.org/learn/c-structured-programming', 'https://www.coursera.org/learn/programming-unity-game-development-project', 'https://www.coursera.org/learn/sheng-c-biancheng', 'https://www.coursera.org/learn/cpp-arrays-and-loops', 'https://www.coursera.org/learn/cpp-classes-and-objects', 'https://www.coursera.org/learn/cpp-decision-programming', 'https://www.coursera.org/learn/c-plus-plus-a', 'https://www.coursera.org/learn/c-plus-plus-b', 'https://www.coursera.org/learn/cpp-inheritance-aggregation-composition', 'https://www.coursera.org/learn/cpp-chengxu-sheji', 'https://www.coursera.org/learn/cad-bim-shiwu', 'https://www.coursera.org/learn/cam-design-manufacturing-mechanical-engineers', 'https://www.coursera.org/learn/leadership-challenge', 'https://www.coursera.org/learn/google-cbrs-professional-training', 'https://www.coursera.org/learn/cobol-programming-vscode', 'https://www.coursera.org/learn/covid19clinicalupdate', 'https://www.coursera.org/learn/covid-19-series-temporelles-python', 'https://www.coursera.org/learn/covid-19-contact-tracing', 'https://www.coursera.org/learn/covid-19-contact-tracing-for-nursing-professionals', 'https://www.coursera.org/learn/covid-19-training-healthcare', 'https://www.coursera.org/learn/covid-19-what-you-need-to-know', 'https://www.coursera.org/learn/covid19-data-analysis-using-python', 'https://www.coursera.org/learn/covid19-data-visualization-using-python', 'https://www.coursera.org/learn/crud-operations-using-mongodb-nosql', 'https://www.coursera.org/learn/reactjs-css-animation', 'https://www.coursera.org/learn/calculate-basic-descriptive-statistics-in-google-sheets', 'https://www.coursera.org/learn/calculating-descriptive-statistics-in-r', 'https://www.coursera.org/learn/calculus-and-optimization-for-machine-learning', 'https://www.coursera.org/learn/single-variable-calculus', 'https://www.coursera.org/learn/differentiation-calculus', 'https://www.coursera.org/learn/integration-calculus', 'https://www.coursera.org/learn/applications-calculus', 'https://www.coursera.org/learn/calvin', 'https://www.coursera.org/learn/camera-control', 'https://www.coursera.org/learn/exposure-photography', 'https://www.coursera.org/learn/camino-excelencia-gestion-proyectos', 'https://www.coursera.org/learn/prevent-cancer', 'https://www.coursera.org/learn/pain-cannabis-cbd-thc', 'https://www.coursera.org/learn/mentalhealth-cannabis-cbd-thc', 'https://www.coursera.org/learn/capitalismo-consciente', 'https://www.coursera.org/learn/start-your-own-business-project', 'https://www.coursera.org/learn/nonprofit-gov-capstone', 'https://www.coursera.org/learn/startup-fintech-capstone', 'https://www.coursera.org/learn/aadcapstone', 'https://www.coursera.org/learn/capstone-project-analyzing-a-real-transaction', 'https://www.coursera.org/learn/business-tech-project', 'https://www.coursera.org/learn/teach-impacts-technology-capstone', 'https://www.coursera.org/learn/capstone-value-creation-innovation', 'https://www.coursera.org/learn/autonomous-runway-detection', 'https://www.coursera.org/learn/strategic-business-analytics-capstone', 'https://www.coursera.org/learn/intermediate-programming-capstone', 'https://www.coursera.org/learn/investment-portfolio-management-capstone', 'https://www.coursera.org/learn/become-a-journalist-capstone', 'https://www.coursera.org/learn/sustainability-proposal', 'https://www.coursera.org/learn/python-data-visualization', 'https://www.coursera.org/learn/story-writing-project', 'https://www.coursera.org/learn/car-transport-app-figma', 'https://www.coursera.org/learn/healthcarejobs', 'https://www.coursera.org/learn/career-brand-development-self-coaching', 'https://www.coursera.org/learn/career-decisions', 'https://www.coursera.org/learn/career-exploration', 'https://www.coursera.org/learn/career-planning', 'https://www.coursera.org/learn/career-success-capstone', 'https://www.coursera.org/learn/career-fitness', 'https://www.coursera.org/learn/career-development-planning', 'https://www.coursera.org/learn/career-planning-tsu', 'https://www.coursera.org/learn/cartographie', 'https://www.coursera.org/learn/personalizedmed', 'https://www.coursera.org/learn/case-studies-business-analytics-accenture', 'https://www.coursera.org/learn/causal-inference-2', 'https://www.coursera.org/learn/causal-inference', 'https://www.coursera.org/learn/agribusiness-management-challenges', 'https://www.coursera.org/learn/challenging-forensic-science', 'https://www.coursera.org/learn/change-gap-analysis', 'https://www.coursera.org/learn/route-analysis-miro', 'https://www.coursera.org/learn/channel-management', 'https://www.coursera.org/learn/game-character-design', 'https://www.coursera.org/learn/character-setup-animation', 'https://www.coursera.org/learn/darwin-origen-evolucionismo-moderno', 'https://www.coursera.org/learn/check-point-jump-start-maestro', 'https://www.coursera.org/learn/check-point-jump-start-network-security', 'https://www.coursera.org/learn/check-point-jump-start-smb-network-security', 'https://www.coursera.org/learn/chemerinsky-on-constitutional-law-structure-of-government', 'https://www.coursera.org/learn/chemerinsky-individual-rights', 'https://www.coursera.org/learn/chemical-biology', 'https://www.coursera.org/learn/chemicals-health', 'https://www.coursera.org/learn/chemistry-1', 'https://www.coursera.org/learn/chi-squared-test-google-sheets', 'https://www.coursera.org/learn/chickens', 'https://www.coursera.org/learn/childnutrition', 'https://www.coursera.org/learn/childbirth', 'https://www.coursera.org/learn/children-literacy', 'https://www.coursera.org/learn/childrens-rights', 'https://www.coursera.org/learn/chimp', 'https://www.coursera.org/learn/china-strategy', 'https://www.coursera.org/learn/econtransform1', 'https://www.coursera.org/learn/hanzi-2', 'https://www.coursera.org/learn/hanzi', 'https://www.coursera.org/learn/china-culture-contemporary', 'https://www.coursera.org/learn/chinesepolitics1', 'https://www.coursera.org/learn/chinese-politics-2', 'https://www.coursera.org/learn/learn-chinese', 'https://www.coursera.org/learn/hsk-1', 'https://www.coursera.org/learn/hsk-2', 'https://www.coursera.org/learn/hsk-3', 'https://www.coursera.org/learn/hsk-3-part2', 'https://www.coursera.org/learn/hsk-4', 'https://www.coursera.org/learn/chinese-for-hsk-6', 'https://www.coursera.org/learn/chino-primera-impresion', 'https://www.coursera.org/learn/chino-etiqueta-negocios', 'https://www.coursera.org/learn/chino-viajes-de-negocios', 'https://www.coursera.org/learn/chosenissues', 'https://www.coursera.org/learn/ciencia-de-datos-aplicada-cuso-capstone', 'https://www.coursera.org/learn/circadian-clocks', 'https://www.coursera.org/learn/circular-economy', 'https://www.coursera.org/learn/developpement-urbain', 'https://www.coursera.org/learn/desarrollo-urbano', 'https://www.coursera.org/learn/urban-development', 'https://www.coursera.org/learn/citizenship-rule-of-law', 'https://www.coursera.org/learn/ciudades-politicas-urbanas', 'https://www.coursera.org/learn/civic-engagement-american-democracy', 'https://www.coursera.org/learn/clasificacion-datos-satelites-automl-pycaret', 'https://www.coursera.org/learn/clasificacion-imagenes', 'https://www.coursera.org/learn/class-creation-in-object-oriented-python', 'https://www.coursera.org/learn/classical-cryptosystems', 'https://www.coursera.org/learn/classical-sociological-theory', 'https://www.coursera.org/learn/papers-molecular-genetics', 'https://www.coursera.org/learn/classics-chinese-humanities', 'https://www.coursera.org/learn/classification-trees-in-python', 'https://www.coursera.org/learn/classification-of-covid19-using-chest-xray-images-in-keras', 'https://www.coursera.org/learn/image-classification-transfer-learning-keras', 'https://www.coursera.org/learn/classify-radio-signals-space-keras-cnn', 'https://www.coursera.org/learn/gestionar-personas', 'https://www.coursera.org/learn/innovacion-docencia-universitaria', 'https://www.coursera.org/learn/clean-explore-visualize-big-data-python-spark', 'https://www.coursera.org/learn/cleaning-reshaping-and-expanding-data-in-python', 'https://www.coursera.org/learn/client-booking-scheduling-with-picktime', 'https://www.coursera.org/learn/client-needs-and-software-requirements', 'https://www.coursera.org/learn/climateadaptation', 'https://www.coursera.org/learn/climate-adaptation', 'https://www.coursera.org/learn/climate-change-mitigation', 'https://www.coursera.org/learn/xarray', 'https://www.coursera.org/learn/clinical-data-models-and-data-quality-assessments', 'https://www.coursera.org/learn/clinical-epidemiology', 'https://www.coursera.org/learn/clinical-kidney-transplantation', 'https://www.coursera.org/learn/clinical-natural-language-processing', 'https://www.coursera.org/learn/clinical-terminology', 'https://www.coursera.org/learn/cloud-app', 'https://www.coursera.org/learn/cloud-applications-part1', 'https://www.coursera.org/learn/cloud-applications-part2', 'https://www.coursera.org/learn/cloud-computing-basics', 'https://www.coursera.org/learn/cloud-computing', 'https://www.coursera.org/learn/cloud-computing-2', 'https://www.coursera.org/learn/alibaba-cloud-computing', 'https://www.coursera.org/learn/cloud-computing-project', 'https://www.coursera.org/learn/cloud-computing-security', 'https://www.coursera.org/learn/cloud-networking', 'https://www.coursera.org/learn/cloud-security-basics', 'https://www.coursera.org/learn/cloud-sys-software', 'https://www.coursera.org/learn/cluster-analysis', 'https://www.coursera.org/learn/clustering-geolocation-data-intelligently-python', 'https://www.coursera.org/learn/coaching-conversations', 'https://www.coursera.org/learn/coaching-practices', 'https://www.coursera.org/learn/coberturas-de-riesgo', 'https://www.coursera.org/learn/code-free-data-science', 'https://www.coursera.org/learn/intro-programming', 'https://www.coursera.org/learn/uva-coding-for-design-managers-1', 'https://www.coursera.org/learn/uva-coding-for-design-managers-2', 'https://www.coursera.org/learn/uva-coding-for-design-managers-3', 'https://www.coursera.org/learn/coexistence-in-medieval-spain', 'https://www.coursera.org/learn/cognicion', 'https://www.coursera.org/learn/cognitive-solutions-rpa-analytics', 'https://www.coursera.org/learn/collaborate-files-slack-local-google-drive-integrations', 'https://www.coursera.org/learn/collaborative-foresight', 'https://www.coursera.org/learn/collaborative-robot-safety', 'https://www.coursera.org/learn/college-esports-career-planning', 'https://www.coursera.org/learn/combinatorics', 'https://www.coursera.org/learn/data-collection-analytics-project', 'https://www.coursera.org/learn/genomic-tools', 'https://www.coursera.org/learn/command-line-linux', 'https://www.coursera.org/learn/rediger-publier-article-scientifique', 'https://www.coursera.org/learn/commercialization-of-innovation-activity-results', 'https://www.coursera.org/learn/ethical-communication-data-driven-technologies', 'https://www.coursera.org/learn/communicating-business-analytics-results', 'https://www.coursera.org/learn/climatecommunication', 'https://www.coursera.org/learn/data-results', 'https://www.coursera.org/learn/communicating-during-global-emergencies', 'https://www.coursera.org/learn/communication-skills', 'https://www.coursera.org/learn/communication-strategies-virtual-age', 'https://www.coursera.org/learn/communication-in-the-workplace', 'https://www.coursera.org/learn/communicationtheory-academia-practice', 'https://www.coursera.org/learn/police-brutality-in-the-united-states', 'https://www.coursera.org/learn/community-public-health', 'https://www.coursera.org/learn/community-organizing', 'https://www.coursera.org/learn/understanding-company-reports', 'https://www.coursera.org/learn/comparative-health-systems', 'https://www.coursera.org/learn/compare-inline-internal-external-css', 'https://www.coursera.org/learn/compare-stock-returns-google-sheets', 'https://www.coursera.org/learn/compare-time-series-predictions-of-covid19-deaths', 'https://www.coursera.org/learn/comparing-genomes', 'https://www.coursera.org/learn/compassionate-leadership-jane-goodall', 'https://www.coursera.org/learn/compensation-expenses-quotas', 'https://www.coursera.org/learn/competencias-lab', 'https://www.coursera.org/learn/competencias-digitales-access', 'https://www.coursera.org/learn/competencias-digitales-herramientas-basicas', 'https://www.coursera.org/learn/competencias-digitales-ofimatica', 'https://www.coursera.org/learn/competencias-empleabilidad-linkyou', 'https://www.coursera.org/learn/competitive-programming-core-skills', 'https://www.coursera.org/learn/competitive-strategy', 'https://www.coursera.org/learn/complex-retrieval-queries-in-mysql-workbench', 'https://www.coursera.org/learn/comportamiento-adapta', 'https://www.coursera.org/learn/compose-program-music-in-python-using-earsketch', 'https://www.coursera.org/learn/composicion-algoritmica-supercollider', 'https://www.coursera.org/learn/composicion-canciones', 'https://www.coursera.org/learn/composicao-escrevendo-letra', 'https://www.coursera.org/learn/compra-programatica', 'https://www.coursera.org/learn/zika-e-doencas-emergentes', 'https://www.coursera.org/learn/interculturalidad', 'https://www.coursera.org/learn/ecologie', 'https://www.coursera.org/learn/microcontroleurs', 'https://www.coursera.org/learn/computational-geometry', 'https://www.coursera.org/learn/computational-neuroscience', 'https://www.coursera.org/learn/css-capstone', 'https://www.coursera.org/learn/computational-social-science-methods', 'https://www.coursera.org/learn/computational-thinking-k12-educators-capstone', 'https://www.coursera.org/learn/block-programming-k12-educators-abstraction-methods', 'https://www.coursera.org/learn/block-programming-k12-educators-conditional-loops-if-statement', 'https://www.coursera.org/learn/block-programming-k12-educators-nested-if-statement-compound-conditionals', 'https://www.coursera.org/learn/computational-thinking-k12-educators-sequences-loops', 'https://www.coursera.org/learn/block-programming-k12-educators-variables-nested-loops', 'https://www.coursera.org/learn/computational-thinking-problem-solving', 'https://www.coursera.org/learn/mind-machine-computational-vision', 'https://www.coursera.org/learn/comparch', 'https://www.coursera.org/learn/cs-algorithms-theory-machines', 'https://www.coursera.org/learn/cs-programming-java', 'https://www.coursera.org/learn/computer-simulations', 'https://www.coursera.org/learn/computer-vision-opencv-for-images', 'https://www.coursera.org/learn/computer-vision-object-detection', 'https://www.coursera.org/learn/computer-vision-object-tracking-opencv-python', 'https://www.coursera.org/learn/computer-vision-basics', 'https://www.coursera.org/learn/computer-vision-neural-transfer-style-green-screen-effect', 'https://www.coursera.org/learn/computers-waves-simulations', 'https://www.coursera.org/learn/comunicaciones-integradas-marketing', 'https://www.coursera.org/learn/conceitos-basicos-logistica', 'https://www.coursera.org/learn/concept-art-video-games', 'https://www.coursera.org/learn/conceptos-estudio-del-medio-ambiente', 'https://www.coursera.org/learn/fisica-universitaria', 'https://www.coursera.org/learn/python-loops-functions-returns', 'https://www.coursera.org/learn/golang-concurrency', 'https://www.coursera.org/learn/concurrent-programming-in-java', 'https://www.coursera.org/learn/conduct-sales-projections-with-seasonality-google-sheets', 'https://www.coursera.org/learn/conduct-cost-benefit-analysis-google-sheets', 'https://www.coursera.org/learn/configuration-management-cloud', 'https://www.coursera.org/learn/configure-test-basic-network-connectivity-ccna-1-2', 'https://www.coursera.org/learn/conflict-management-capstone-project', 'https://www.coursera.org/learn/conflict-resolution-skills', 'https://www.coursera.org/learn/conflict-transformation', 'https://www.coursera.org/learn/gender-based-violence', 'https://www.coursera.org/learn/astronomy', 'https://www.coursera.org/learn/conjunctions-connectives-adverb-clauses', 'https://www.coursera.org/learn/connecting-with-sales-prospects', 'https://www.coursera.org/learn/consolidando-empresas', 'https://www.coursera.org/learn/american-english-pronunciation-consonant-sounds', 'https://www.coursera.org/learn/constitutional-reforms-in-russia', 'https://www.coursera.org/learn/muslim-world', 'https://www.coursera.org/learn/construct-stock-market-indices', 'https://www.coursera.org/learn/construction-cost-estimating', 'https://www.coursera.org/learn/construction-finance', 'https://www.coursera.org/learn/construction-project-management', 'https://www.coursera.org/learn/construction-scheduling', 'https://www.coursera.org/learn/constructivism', 'https://www.coursera.org/learn/constructores-de-paz', 'https://www.coursera.org/learn/contabilidad', 'https://www.coursera.org/learn/contact-center-ai-building-a-dynamic-virtual-agent', 'https://www.coursera.org/learn/contact-center-ai-conversational-design-fundamentals', 'https://www.coursera.org/learn/contact-center-ai-operations-and-implementation', 'https://www.coursera.org/learn/container-orchestration-kubernetes', 'https://www.coursera.org/learn/containerize-full-stack-nodejs-application-in-docker', 'https://www.coursera.org/learn/india', 'https://www.coursera.org/learn/contemporary-russian-literature', 'https://www.coursera.org/learn/contenido-matematica-escolar', 'https://www.coursera.org/learn/content-strategy-project', 'https://www.coursera.org/learn/engagement-strategy', 'https://www.coursera.org/learn/effective-content-strategy', 'https://www.coursera.org/learn/increase-reach', 'https://www.coursera.org/learn/content-management-strategy', 'https://www.coursera.org/learn/social-imc', 'https://www.coursera.org/learn/contexto-negocios-latam', 'https://www.coursera.org/learn/uva-darden-continous-delivery-devops', 'https://www.coursera.org/learn/continuous-integration', 'https://www.coursera.org/learn/mercado-digital', 'https://www.coursera.org/learn/control-automatico', 'https://www.coursera.org/learn/nonlinear-spacecraft-attitude-control', 'https://www.coursera.org/learn/controlling-physics-c-sharp-unity', 'https://www.coursera.org/learn/resposta-frequencia', 'https://www.coursera.org/learn/controle-tempo-discreto', 'https://www.coursera.org/learn/controle-s', 'https://www.coursera.org/learn/conversational-english-skills', 'https://www.coursera.org/learn/conversational-sales', 'https://www.coursera.org/learn/leadership-coaching', 'https://www.coursera.org/learn/converter-circuits', 'https://www.coursera.org/learn/converter-control', 'https://www.coursera.org/learn/converting-challenges-into-opportunities', 'https://www.coursera.org/learn/convolutional-neural-networks', 'https://www.coursera.org/learn/convolutional-neural-networks-tensorflow', 'https://www.coursera.org/learn/convolution-text-classification-keras', 'https://www.coursera.org/learn/copyright-law', 'https://www.coursera.org/learn/copyright-law-music-business', 'https://www.coursera.org/learn/copyright-for-education', 'https://www.coursera.org/learn/copyright-for-multimedia', 'https://www.coursera.org/learn/core-concepts-of-accounting', 'https://www.coursera.org/learn/corporate-commercial-law-part1', 'https://www.coursera.org/learn/corporate-commercial-law-part2', 'https://www.coursera.org/learn/corporate-finance-essentials', 'https://www.coursera.org/learn/corporate-finance-essentials-ii', 'https://www.coursera.org/learn/corporate-finance-measure-success', 'https://www.coursera.org/learn/corporate-finance-two', 'https://www.coursera.org/learn/value-creation', 'https://www.coursera.org/learn/corporate-strategy', 'https://www.coursera.org/learn/corporatestrategy', 'https://www.coursera.org/learn/corp-sustainability', 'https://www.coursera.org/learn/corporate-finance-know-your-numbers-2', 'https://www.coursera.org/learn/corporate-governance-mitos-realidades', 'https://www.coursera.org/learn/correccion-estilo-variaciones', 'https://www.coursera.org/learn/wharton-corruption', 'https://www.coursera.org/learn/uva-darden-bcg-pricing-strategy-cost-economics', 'https://www.coursera.org/learn/costosparanegocios', 'https://www.coursera.org/learn/country-level-economics', 'https://www.coursera.org/learn/macroeconomic-factors', 'https://www.coursera.org/learn/startup-entrepreneurship-discovering-ideas', 'https://www.coursera.org/learn/corporate-entrepreneurs-innovation-strategy', 'https://www.coursera.org/learn/python-crash-course', 'https://www.coursera.org/learn/creacion-de-aplicaciones-de-ia-con-las-api-de-watson', 'https://www.coursera.org/learn/uml-genmymodel', 'https://www.coursera.org/learn/creando-chatbots-con-tecnologia-de-ia-sin-experiencia-en-programacion', 'https://www.coursera.org/learn/maquinas-virtuales-azure', 'https://www.coursera.org/learn/simulaciones-python', 'https://www.coursera.org/learn/creando-una-presentacion-con-presentaciones-google', 'https://www.coursera.org/learn/amazon-s3', 'https://www.coursera.org/learn/create-animation-transitions-unity', 'https://www.coursera.org/learn/charts-dashboard-google-sheets', 'https://www.coursera.org/learn/cross-tabulation-reports-google-sheets', 'https://www.coursera.org/learn/custom-layers-keras', 'https://www.coursera.org/learn/create-customer-support-data-with-google-sheets', 'https://www.coursera.org/learn/create-docker-container-seaborn-regression-plot-app', 'https://www.coursera.org/learn/lessons-google-slides', 'https://www.coursera.org/learn/create-fault-tolerant-mongodb-cluster', 'https://www.coursera.org/learn/create-fire-particle-effects-unity', 'https://www.coursera.org/learn/create-outstanding-infographics-using-piktochart', 'https://www.coursera.org/learn/create-informative-presentations-google-slides', 'https://www.coursera.org/learn/interactive-dashboards-streamlit-python', 'https://www.coursera.org/learn/create-keyboard-movement-mechanics-c-sharp-unity', 'https://www.coursera.org/learn/online-employee-onboarding-eduflow', 'https://www.coursera.org/learn/create-ping-pong-game-in-python-using-turtle-graphics', 'https://www.coursera.org/learn/create-power-ups-obstacles-c-sharp-unity', 'https://www.coursera.org/learn/python-linux-script-disk-usage-report', 'https://www.coursera.org/learn/using-restful-apis-for-spotify', 'https://www.coursera.org/learn/create-relational-database-table-sqlitestudio', 'https://www.coursera.org/learn/create-simple-enemy-behaviour-c-sharp-unity-intro-ai', 'https://www.coursera.org/learn/create-swag-bag-inserts-to-market-your-business-using-canva', 'https://www.coursera.org/learn/create-technical-stock-charts-r-quantmod', 'https://www.coursera.org/learn/create-training-videos-powtoon', 'https://www.coursera.org/learn/create-ui-unity-screen-overlay-canvas', 'https://www.coursera.org/learn/create-ui-unity-settings-menu', 'https://www.coursera.org/learn/create-ui-unity-fit-any-aspect-ratio', 'https://www.coursera.org/learn/user-directory-files-linux-commands', 'https://www.coursera.org/learn/create-your-first-java-application-with-networking', 'https://www.coursera.org/learn/create-automation-script-using-selenium-java', 'https://www.coursera.org/learn/chatbot-rasa-python', 'https://www.coursera.org/learn/python-game', 'https://www.coursera.org/learn/create-your-first-multithreaded-application', 'https://www.coursera.org/learn/nosql-database-with-mongodb-and-compass', 'https://www.coursera.org/learn/first-python-program', 'https://www.coursera.org/learn/python-flask', 'https://www.coursera.org/learn/create-a-5s-system-in-google-sheets', 'https://www.coursera.org/learn/boggle-python-recursion', 'https://www.coursera.org/learn/create-business-marketing-brand-kit-using-canva', 'https://www.coursera.org/learn/create-rsi-buy-signal-using-r', 'https://www.coursera.org/learn/classroom-website', 'https://www.coursera.org/learn/create-database-with-modeling-tool-mysql-workbench', 'https://www.coursera.org/learn/create-a-debt-reduced-worksheet-in-google-sheets', 'https://www.coursera.org/learn/create-dialog-box-unity-visual-effects-textmeshpro', 'https://www.coursera.org/learn/create-dialog-unity-versatile-reusable', 'https://www.coursera.org/learn/create-dialog-box-c-sharp-unity-message-prompt', 'https://www.coursera.org/learn/create-financial-statement-google-sheets', 'https://www.coursera.org/learn/create-first-person-camera-c-sharp-unity', 'https://www.coursera.org/learn/create-a-google-ads-display-campaign', 'https://www.coursera.org/learn/create-a-google-ads-search-campaign', 'https://www.coursera.org/learn/create-a-google-ads-video-campaign', 'https://www.coursera.org/learn/create-a-google-video-ads-sequence-campaign', 'https://www.coursera.org/learn/create-a-home-affordability-worksheet-in-google-sheets', 'https://www.coursera.org/learn/create-a-kanban-board-in-google-sheets', 'https://www.coursera.org/learn/create-memory-puzzle-game-in-python-using-pygame', 'https://www.coursera.org/learn/create-mortgage-payment-calculator-in-google-sheets', 'https://www.coursera.org/learn/pos-java', 'https://www.coursera.org/learn/create-a-profile-and-network-on-linkedin', 'https://www.coursera.org/learn/create-a-project-charter-with-google-docs', 'https://www.coursera.org/learn/create-a-project-management-tracker-using-google-sheets', 'https://www.coursera.org/learn/create-python-application-mysql', 'https://www.coursera.org/learn/python-application-pymango-mongodb-database', 'https://www.coursera.org/learn/create-a-raci-matrix-in-google-sheets', 'https://www.coursera.org/learn/create-a-record-of-students-using-arrays-in-java', 'https://www.coursera.org/learn/create-resume-cover-letter-google-docs', 'https://www.coursera.org/learn/create-gantt-chart-google-sheets', 'https://www.coursera.org/learn/create-a-simple-project-timeline', 'https://www.coursera.org/learn/create-space-shooter-game-scratch-studio', 'https://www.coursera.org/learn/create-a-stock-dashboard-using-google-sheets', 'https://www.coursera.org/learn/java-oop-supermarket-app', 'https://www.coursera.org/learn/create-ui-unity-world-space-canvas', 'https://www.coursera.org/learn/virtual-classroom-google-slides', 'https://www.coursera.org/learn/teaching-visual-schedule', 'https://www.coursera.org/learn/writing-rubric', 'https://www.coursera.org/learn/django-contacts-list-web-app', 'https://www.coursera.org/learn/create-an-employee-feedback-survey-with-typeform', 'https://www.coursera.org/learn/create-an-engaging-marketing-pitch-using-google-slides', 'https://www.coursera.org/learn/create-fps-weapon-unity-revolver', 'https://www.coursera.org/learn/create-fps-weapon-unity-firing-effects', 'https://www.coursera.org/learn/create-fps-weapon-unity-damage-effects', 'https://www.coursera.org/learn/create-fps-weapon-unity-ammunition', 'https://www.coursera.org/learn/create-an-interactive-fiction-text-adventure-game-with-python', 'https://www.coursera.org/learn/create-design-digital-products-canva', 'https://www.coursera.org/learn/create-format-document-with-libreoffice-writer', 'https://www.coursera.org/learn/ethical-data-driven-technology-leader', 'https://www.coursera.org/learn/create-basic-behavior-csharp-unity', 'https://www.coursera.org/learn/create-your-first-java-project-using-jgrasp', 'https://www.coursera.org/learn/create-first-test-automation-script-using-selenium-and-c-sharp', 'https://www.coursera.org/learn/create-your-own-sudoku-solver-using-ai-and-python', 'https://www.coursera.org/learn/advanced-reports-sas-va', 'https://www.coursera.org/learn/custom-callbacks-keras', 'https://www.coursera.org/learn/creating-cutscenes-unity', 'https://www.coursera.org/learn/dataviz-dashboards', 'https://www.coursera.org/learn/creating-database-tables-with-sql', 'https://www.coursera.org/learn/creating-innovation', 'https://www.coursera.org/learn/creating-interactive-learning-videos-edpuzzle', 'https://www.coursera.org/learn/smartpls-advanced-regression', 'https://www.coursera.org/learn/gcp-creating-bigquery-datasets-visualizing-insights', 'https://www.coursera.org/learn/gcp-creating-bigquery-datasets-visualizing-insights-jp', 'https://www.coursera.org/learn/music-synthesizer', 'https://www.coursera.org/learn/cnc-toolpaths-cnc-lathe', 'https://www.coursera.org/learn/choice-board-google-slides', 'https://www.coursera.org/learn/create-customer-service-survey-google-forms', 'https://www.coursera.org/learn/dynamic-web-application-rshiny', 'https://www.coursera.org/learn/creating-personal-site-gatsby', 'https://www.coursera.org/learn/investment-portfolio', 'https://www.coursera.org/learn/student-profile-google-docs', 'https://www.coursera.org/learn/continuous-learning-culture', 'https://www.coursera.org/learn/virtual-book-store-using-java-basics', 'https://www.coursera.org/learn/create-aws-ec2-autoscaling-group-load-balancer', 'https://www.coursera.org/learn/creating-calculator-flutter', 'https://www.coursera.org/learn/story-creating-flutter', 'https://www.coursera.org/learn/tech-startup', 'https://www.coursera.org/learn/creative-problem-solving', 'https://www.coursera.org/learn/digitalmedia', 'https://www.coursera.org/learn/creative-thinking-techniques-and-tools-for-success', 'https://www.coursera.org/learn/craft-of-character', 'https://www.coursera.org/learn/craft-of-plot', 'https://www.coursera.org/learn/craft-of-setting-and-description', 'https://www.coursera.org/learn/craft-of-style', 'https://www.coursera.org/learn/creatividad-computacional', 'https://www.coursera.org/learn/creatividad-proyecto-final', 'https://www.coursera.org/learn/creativity-entrepreneurship', 'https://www.coursera.org/learn/creativity-toolkit-1', 'https://www.coursera.org/learn/creativity-toolkit-2', 'https://www.coursera.org/learn/creativity-innovation', 'https://www.coursera.org/learn/cree-increibles-disenos-de-mercadeo-usando-canva', 'https://www.coursera.org/learn/criacao-startups', 'https://www.coursera.org/learn/calidadeducacionsuperior', 'https://www.coursera.org/learn/urban-education', 'https://www.coursera.org/learn/critical-path-analysis-using-lucidchart', 'https://www.coursera.org/learn/critical-management', 'https://www.coursera.org/learn/critical-thinking-skills', 'https://www.coursera.org/learn/transport-eu-law', 'https://www.coursera.org/learn/wharton-crowdfunding', 'https://www.coursera.org/learn/cryptocurrency-data-visualization-using-plotly-express', 'https://www.coursera.org/learn/wharton-cryptocurrency-blockchain-introduction-digital-currency', 'https://www.coursera.org/learn/cryptographic-hash-integrity-protection', 'https://www.coursera.org/learn/cryptography-sscp', 'https://www.coursera.org/learn/cryptography', 'https://www.coursera.org/learn/crypto', 'https://www.coursera.org/learn/crypto2']\n"
          ],
          "name": "stdout"
        }
      ]
    },
    {
      "cell_type": "code",
      "metadata": {
        "id": "CRvPK9RaiLpv"
      },
      "source": [
        "#Attaching Course Languages\n",
        "\n",
        "courseraCourses=pd.DataFrame({'course_name':course_name,\n",
        "'course_type':typ,\n",
        "'university':university_name,\n",
        "'course_link':course_link,\n",
        "'course_category':category,\n",
        "'course_sub_category':sub_category,\n",
        "'univ_logo':university_logo,\n",
        "'course_lang':lg,\n",
        "'course_subtitles':subtitles,\n",
        "'course_level':level,\n",
        "'course_period':time_required,\n",
        "'course_skills':course_skills\n",
        "\n",
        "})"
      ],
      "execution_count": null,
      "outputs": []
    },
    {
      "cell_type": "code",
      "metadata": {
        "id": "9pZOczKIsV_-"
      },
      "source": [
        "courseraCourses"
      ],
      "execution_count": null,
      "outputs": []
    },
    {
      "cell_type": "code",
      "metadata": {
        "id": "jMF7T1DvW-dX",
        "outputId": "f6361e19-c64a-449f-f1bb-e67b79516289",
        "colab": {
          "base_uri": "https://localhost:8080/"
        }
      },
      "source": [
        "url=\"https://www.coursera.org/learn/uva-darden-agile-analytics\"\n",
        "page_course = requests.get(url)\n",
        "soup = BeautifulSoup(page_course.content, 'html.parser')\n",
        "#lang=soup.find_all(\"div\",class_=\"_y1d9czk m-b-2 p-t-1s\")\n",
        "#for i,z in zip(range(len(lang)),lang):\n",
        "  #g=z.find('div',class_=\"_16ni8zai m-b-0 m-t-1s\")\n",
        "  #if g is None: continue\n",
        "  #else: print(g.get_text())\n",
        "\n",
        "      #Attaching course level(Beginner/Intermediate/ Advanced) and  time required to complete\n",
        "fet=soup.find_all('div',class_='_y1d9czk m-b-2 p-t-1s')\n",
        "for i in fet:\n",
        "      fett=i.find('div',class_=\"_16ni8zai m-b-0 m-t-1s\")\n",
        "      if fett is None:\n",
        "        continue\n",
        "      elif \"Level\" in fett.get_text():\n",
        "        print(fett.get_text())\n",
        "        continue  \n",
        "      elif 'complete' in fett.get_text():\n",
        "        print(fett.get_text())\n",
        "        break\n",
        "      \n",
        "\n",
        "\n",
        "\n",
        "  \n",
        "\n",
        "\n"
      ],
      "execution_count": 22,
      "outputs": [
        {
          "output_type": "stream",
          "text": [
            "Beginner Level\n",
            "Approx. 14 hours to complete\n"
          ],
          "name": "stdout"
        }
      ]
    },
    {
      "cell_type": "code",
      "metadata": {
        "id": "QE4XQ7neDfYv"
      },
      "source": [
        ""
      ],
      "execution_count": null,
      "outputs": []
    },
    {
      "cell_type": "code",
      "metadata": {
        "id": "_2F3hdkQW-fS"
      },
      "source": [
        ""
      ],
      "execution_count": null,
      "outputs": []
    }
  ]
}